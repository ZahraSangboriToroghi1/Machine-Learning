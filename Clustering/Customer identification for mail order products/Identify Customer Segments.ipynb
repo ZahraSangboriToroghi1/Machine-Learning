{
 "cells": [
  {
   "cell_type": "markdown",
   "metadata": {},
   "source": [
    "\n",
    "\n",
    "# Project: Identify Customer Segments\n",
    "\n",
    "In this project, you will apply unsupervised learning techniques to identify segments of the population that form the core customer base for a mail-order sales company in Germany. These segments can then be used to direct marketing campaigns towards audiences that will have the highest expected rate of returns. The data that you will use has been provided by our partners at Bertelsmann Arvato Analytics, and represents a real-life data science task.\n",
    "\n",
    "This notebook will help you complete this task by providing a framework within which you will perform your analysis steps. In each step of the project, you will see some text describing the subtask that you will perform, followed by one or more code cells for you to complete your work. **Feel free to add additional code and markdown cells as you go along so that you can explore everything in precise chunks.** The code cells provided in the base template will outline only the major tasks, and will usually not be enough to cover all of the minor tasks that comprise it.\n",
    "\n",
    "It should be noted that while there will be precise guidelines on how you should handle certain tasks in the project, there will also be places where an exact specification is not provided. **There will be times in the project where you will need to make and justify your own decisions on how to treat the data.** These are places where there may not be only one way to handle the data. In real-life tasks, there may be many valid ways to approach an analysis task. One of the most important things you can do is clearly document your approach so that other scientists can understand the decisions you've made.\n",
    "\n",
    "At the end of most sections, there will be a Markdown cell labeled **Discussion**. In these cells, you will report your findings for the completed section, as well as document the decisions that you made in your approach to each subtask. **Your project will be evaluated not just on the code used to complete the tasks outlined, but also your communication about your observations and conclusions at each stage.**"
   ]
  },
  {
   "cell_type": "code",
   "execution_count": 3,
   "metadata": {},
   "outputs": [
    {
     "data": {
      "text/plain": [
       "'\\nImport note: The classroom currently uses sklearn version 0.19.\\nIf you need to use an imputer, it is available in sklearn.preprocessing.Imputer,\\ninstead of sklearn.impute as in newer versions of sklearn.\\n'"
      ]
     },
     "execution_count": 3,
     "metadata": {},
     "output_type": "execute_result"
    }
   ],
   "source": [
    "# import libraries here; add more as necessary\n",
    "import numpy as np\n",
    "import pandas as pd\n",
    "import matplotlib.pyplot as plt\n",
    "import seaborn as sns\n",
    "\n",
    "# magic word for producing visualizations in notebook\n",
    "%matplotlib inline\n",
    "\n",
    "'''\n",
    "Import note: The classroom currently uses sklearn version 0.19.\n",
    "If you need to use an imputer, it is available in sklearn.preprocessing.Imputer,\n",
    "instead of sklearn.impute as in newer versions of sklearn.\n",
    "'''"
   ]
  },
  {
   "cell_type": "markdown",
   "metadata": {},
   "source": [
    "### Step 0: Load the Data\n",
    "\n",
    "There are four files associated with this project (not including this one):\n",
    "\n",
    "- `Udacity_AZDIAS_Subset.csv`: Demographics data for the general population of Germany; 891211 persons (rows) x 85 features (columns).\n",
    "- `Udacity_CUSTOMERS_Subset.csv`: Demographics data for customers of a mail-order company; 191652 persons (rows) x 85 features (columns).\n",
    "- `Data_Dictionary.md`: Detailed information file about the features in the provided datasets.\n",
    "- `AZDIAS_Feature_Summary.csv`: Summary of feature attributes for demographics data; 85 features (rows) x 4 columns\n",
    "\n",
    "Each row of the demographics files represents a single person, but also includes information outside of individuals, including information about their household, building, and neighborhood. You will use this information to cluster the general population into groups with similar demographic properties. Then, you will see how the people in the customers dataset fit into those created clusters. The hope here is that certain clusters are over-represented in the customers data, as compared to the general population; those over-represented clusters will be assumed to be part of the core userbase. This information can then be used for further applications, such as targeting for a marketing campaign.\n",
    "\n",
    "To start off with, load in the demographics data for the general population into a pandas DataFrame, and do the same for the feature attributes summary. Note for all of the `.csv` data files in this project: they're semicolon (`;`) delimited, so you'll need an additional argument in your [`read_csv()`](https://pandas.pydata.org/pandas-docs/stable/generated/pandas.read_csv.html) call to read in the data properly. Also, considering the size of the main dataset, it may take some time for it to load completely.\n",
    "\n",
    "Once the dataset is loaded, it's recommended that you take a little bit of time just browsing the general structure of the dataset and feature summary file. You'll be getting deep into the innards of the cleaning in the first major step of the project, so gaining some general familiarity can help you get your bearings."
   ]
  },
  {
   "cell_type": "code",
   "execution_count": 4,
   "metadata": {},
   "outputs": [],
   "source": [
    "# Load in the general demographics data.\n",
    "azdias = pd.read_csv('Udacity_AZDIAS_Subset.csv',sep=';')\n",
    "\n",
    "# Load in the feature summary file.\n",
    "feat_info = pd.read_csv('AZDIAS_Feature_Summary.csv',sep=';')"
   ]
  },
  {
   "cell_type": "code",
   "execution_count": 5,
   "metadata": {},
   "outputs": [
    {
     "data": {
      "text/plain": [
       "(891221, 85)"
      ]
     },
     "execution_count": 5,
     "metadata": {},
     "output_type": "execute_result"
    }
   ],
   "source": [
    "np.shape(azdias)"
   ]
  },
  {
   "cell_type": "code",
   "execution_count": 6,
   "metadata": {},
   "outputs": [
    {
     "data": {
      "text/html": [
       "<div>\n",
       "<style scoped>\n",
       "    .dataframe tbody tr th:only-of-type {\n",
       "        vertical-align: middle;\n",
       "    }\n",
       "\n",
       "    .dataframe tbody tr th {\n",
       "        vertical-align: top;\n",
       "    }\n",
       "\n",
       "    .dataframe thead th {\n",
       "        text-align: right;\n",
       "    }\n",
       "</style>\n",
       "<table border=\"1\" class=\"dataframe\">\n",
       "  <thead>\n",
       "    <tr style=\"text-align: right;\">\n",
       "      <th></th>\n",
       "      <th>AGER_TYP</th>\n",
       "      <th>ALTERSKATEGORIE_GROB</th>\n",
       "      <th>ANREDE_KZ</th>\n",
       "      <th>CJT_GESAMTTYP</th>\n",
       "      <th>FINANZ_MINIMALIST</th>\n",
       "      <th>FINANZ_SPARER</th>\n",
       "      <th>FINANZ_VORSORGER</th>\n",
       "      <th>FINANZ_ANLEGER</th>\n",
       "      <th>FINANZ_UNAUFFAELLIGER</th>\n",
       "      <th>FINANZ_HAUSBAUER</th>\n",
       "      <th>...</th>\n",
       "      <th>PLZ8_ANTG1</th>\n",
       "      <th>PLZ8_ANTG2</th>\n",
       "      <th>PLZ8_ANTG3</th>\n",
       "      <th>PLZ8_ANTG4</th>\n",
       "      <th>PLZ8_BAUMAX</th>\n",
       "      <th>PLZ8_HHZ</th>\n",
       "      <th>PLZ8_GBZ</th>\n",
       "      <th>ARBEIT</th>\n",
       "      <th>ORTSGR_KLS9</th>\n",
       "      <th>RELAT_AB</th>\n",
       "    </tr>\n",
       "  </thead>\n",
       "  <tbody>\n",
       "    <tr>\n",
       "      <th>0</th>\n",
       "      <td>-1</td>\n",
       "      <td>2</td>\n",
       "      <td>1</td>\n",
       "      <td>2.0</td>\n",
       "      <td>3</td>\n",
       "      <td>4</td>\n",
       "      <td>3</td>\n",
       "      <td>5</td>\n",
       "      <td>5</td>\n",
       "      <td>3</td>\n",
       "      <td>...</td>\n",
       "      <td>NaN</td>\n",
       "      <td>NaN</td>\n",
       "      <td>NaN</td>\n",
       "      <td>NaN</td>\n",
       "      <td>NaN</td>\n",
       "      <td>NaN</td>\n",
       "      <td>NaN</td>\n",
       "      <td>NaN</td>\n",
       "      <td>NaN</td>\n",
       "      <td>NaN</td>\n",
       "    </tr>\n",
       "    <tr>\n",
       "      <th>1</th>\n",
       "      <td>-1</td>\n",
       "      <td>1</td>\n",
       "      <td>2</td>\n",
       "      <td>5.0</td>\n",
       "      <td>1</td>\n",
       "      <td>5</td>\n",
       "      <td>2</td>\n",
       "      <td>5</td>\n",
       "      <td>4</td>\n",
       "      <td>5</td>\n",
       "      <td>...</td>\n",
       "      <td>2.0</td>\n",
       "      <td>3.0</td>\n",
       "      <td>2.0</td>\n",
       "      <td>1.0</td>\n",
       "      <td>1.0</td>\n",
       "      <td>5.0</td>\n",
       "      <td>4.0</td>\n",
       "      <td>3.0</td>\n",
       "      <td>5.0</td>\n",
       "      <td>4.0</td>\n",
       "    </tr>\n",
       "    <tr>\n",
       "      <th>2</th>\n",
       "      <td>-1</td>\n",
       "      <td>3</td>\n",
       "      <td>2</td>\n",
       "      <td>3.0</td>\n",
       "      <td>1</td>\n",
       "      <td>4</td>\n",
       "      <td>1</td>\n",
       "      <td>2</td>\n",
       "      <td>3</td>\n",
       "      <td>5</td>\n",
       "      <td>...</td>\n",
       "      <td>3.0</td>\n",
       "      <td>3.0</td>\n",
       "      <td>1.0</td>\n",
       "      <td>0.0</td>\n",
       "      <td>1.0</td>\n",
       "      <td>4.0</td>\n",
       "      <td>4.0</td>\n",
       "      <td>3.0</td>\n",
       "      <td>5.0</td>\n",
       "      <td>2.0</td>\n",
       "    </tr>\n",
       "    <tr>\n",
       "      <th>3</th>\n",
       "      <td>2</td>\n",
       "      <td>4</td>\n",
       "      <td>2</td>\n",
       "      <td>2.0</td>\n",
       "      <td>4</td>\n",
       "      <td>2</td>\n",
       "      <td>5</td>\n",
       "      <td>2</td>\n",
       "      <td>1</td>\n",
       "      <td>2</td>\n",
       "      <td>...</td>\n",
       "      <td>2.0</td>\n",
       "      <td>2.0</td>\n",
       "      <td>2.0</td>\n",
       "      <td>0.0</td>\n",
       "      <td>1.0</td>\n",
       "      <td>3.0</td>\n",
       "      <td>4.0</td>\n",
       "      <td>2.0</td>\n",
       "      <td>3.0</td>\n",
       "      <td>3.0</td>\n",
       "    </tr>\n",
       "    <tr>\n",
       "      <th>4</th>\n",
       "      <td>-1</td>\n",
       "      <td>3</td>\n",
       "      <td>1</td>\n",
       "      <td>5.0</td>\n",
       "      <td>4</td>\n",
       "      <td>3</td>\n",
       "      <td>4</td>\n",
       "      <td>1</td>\n",
       "      <td>3</td>\n",
       "      <td>2</td>\n",
       "      <td>...</td>\n",
       "      <td>2.0</td>\n",
       "      <td>4.0</td>\n",
       "      <td>2.0</td>\n",
       "      <td>1.0</td>\n",
       "      <td>2.0</td>\n",
       "      <td>3.0</td>\n",
       "      <td>3.0</td>\n",
       "      <td>4.0</td>\n",
       "      <td>6.0</td>\n",
       "      <td>5.0</td>\n",
       "    </tr>\n",
       "  </tbody>\n",
       "</table>\n",
       "<p>5 rows × 85 columns</p>\n",
       "</div>"
      ],
      "text/plain": [
       "   AGER_TYP  ALTERSKATEGORIE_GROB  ANREDE_KZ  CJT_GESAMTTYP  \\\n",
       "0        -1                     2          1            2.0   \n",
       "1        -1                     1          2            5.0   \n",
       "2        -1                     3          2            3.0   \n",
       "3         2                     4          2            2.0   \n",
       "4        -1                     3          1            5.0   \n",
       "\n",
       "   FINANZ_MINIMALIST  FINANZ_SPARER  FINANZ_VORSORGER  FINANZ_ANLEGER  \\\n",
       "0                  3              4                 3               5   \n",
       "1                  1              5                 2               5   \n",
       "2                  1              4                 1               2   \n",
       "3                  4              2                 5               2   \n",
       "4                  4              3                 4               1   \n",
       "\n",
       "   FINANZ_UNAUFFAELLIGER  FINANZ_HAUSBAUER    ...     PLZ8_ANTG1  PLZ8_ANTG2  \\\n",
       "0                      5                 3    ...            NaN         NaN   \n",
       "1                      4                 5    ...            2.0         3.0   \n",
       "2                      3                 5    ...            3.0         3.0   \n",
       "3                      1                 2    ...            2.0         2.0   \n",
       "4                      3                 2    ...            2.0         4.0   \n",
       "\n",
       "   PLZ8_ANTG3  PLZ8_ANTG4  PLZ8_BAUMAX  PLZ8_HHZ  PLZ8_GBZ  ARBEIT  \\\n",
       "0         NaN         NaN          NaN       NaN       NaN     NaN   \n",
       "1         2.0         1.0          1.0       5.0       4.0     3.0   \n",
       "2         1.0         0.0          1.0       4.0       4.0     3.0   \n",
       "3         2.0         0.0          1.0       3.0       4.0     2.0   \n",
       "4         2.0         1.0          2.0       3.0       3.0     4.0   \n",
       "\n",
       "   ORTSGR_KLS9  RELAT_AB  \n",
       "0          NaN       NaN  \n",
       "1          5.0       4.0  \n",
       "2          5.0       2.0  \n",
       "3          3.0       3.0  \n",
       "4          6.0       5.0  \n",
       "\n",
       "[5 rows x 85 columns]"
      ]
     },
     "execution_count": 6,
     "metadata": {},
     "output_type": "execute_result"
    }
   ],
   "source": [
    "# Check the structure of the data after it's loaded (e.g. print the number of\n",
    "# rows and columns, print the first few rows).\n",
    "azdias.head()"
   ]
  },
  {
   "cell_type": "code",
   "execution_count": 7,
   "metadata": {},
   "outputs": [
    {
     "data": {
      "text/html": [
       "<div>\n",
       "<style scoped>\n",
       "    .dataframe tbody tr th:only-of-type {\n",
       "        vertical-align: middle;\n",
       "    }\n",
       "\n",
       "    .dataframe tbody tr th {\n",
       "        vertical-align: top;\n",
       "    }\n",
       "\n",
       "    .dataframe thead th {\n",
       "        text-align: right;\n",
       "    }\n",
       "</style>\n",
       "<table border=\"1\" class=\"dataframe\">\n",
       "  <thead>\n",
       "    <tr style=\"text-align: right;\">\n",
       "      <th></th>\n",
       "      <th>attribute</th>\n",
       "      <th>information_level</th>\n",
       "      <th>type</th>\n",
       "      <th>missing_or_unknown</th>\n",
       "    </tr>\n",
       "  </thead>\n",
       "  <tbody>\n",
       "    <tr>\n",
       "      <th>0</th>\n",
       "      <td>AGER_TYP</td>\n",
       "      <td>person</td>\n",
       "      <td>categorical</td>\n",
       "      <td>[-1,0]</td>\n",
       "    </tr>\n",
       "    <tr>\n",
       "      <th>1</th>\n",
       "      <td>ALTERSKATEGORIE_GROB</td>\n",
       "      <td>person</td>\n",
       "      <td>ordinal</td>\n",
       "      <td>[-1,0,9]</td>\n",
       "    </tr>\n",
       "    <tr>\n",
       "      <th>2</th>\n",
       "      <td>ANREDE_KZ</td>\n",
       "      <td>person</td>\n",
       "      <td>categorical</td>\n",
       "      <td>[-1,0]</td>\n",
       "    </tr>\n",
       "    <tr>\n",
       "      <th>3</th>\n",
       "      <td>CJT_GESAMTTYP</td>\n",
       "      <td>person</td>\n",
       "      <td>categorical</td>\n",
       "      <td>[0]</td>\n",
       "    </tr>\n",
       "    <tr>\n",
       "      <th>4</th>\n",
       "      <td>FINANZ_MINIMALIST</td>\n",
       "      <td>person</td>\n",
       "      <td>ordinal</td>\n",
       "      <td>[-1]</td>\n",
       "    </tr>\n",
       "  </tbody>\n",
       "</table>\n",
       "</div>"
      ],
      "text/plain": [
       "              attribute information_level         type missing_or_unknown\n",
       "0              AGER_TYP            person  categorical             [-1,0]\n",
       "1  ALTERSKATEGORIE_GROB            person      ordinal           [-1,0,9]\n",
       "2             ANREDE_KZ            person  categorical             [-1,0]\n",
       "3         CJT_GESAMTTYP            person  categorical                [0]\n",
       "4     FINANZ_MINIMALIST            person      ordinal               [-1]"
      ]
     },
     "execution_count": 7,
     "metadata": {},
     "output_type": "execute_result"
    }
   ],
   "source": [
    "feat_info.head()"
   ]
  },
  {
   "cell_type": "markdown",
   "metadata": {},
   "source": [
    "> **Tip**: Add additional cells to keep everything in reasonably-sized chunks! Keyboard shortcut `esc --> a` (press escape to enter command mode, then press the 'A' key) adds a new cell before the active cell, and `esc --> b` adds a new cell after the active cell. If you need to convert an active cell to a markdown cell, use `esc --> m` and to convert to a code cell, use `esc --> y`. \n",
    "\n",
    "## Step 1: Preprocessing\n",
    "\n",
    "### Step 1.1: Assess Missing Data\n",
    "\n",
    "The feature summary file contains a summary of properties for each demographics data column. You will use this file to help you make cleaning decisions during this stage of the project. First of all, you should assess the demographics data in terms of missing data. Pay attention to the following points as you perform your analysis, and take notes on what you observe. Make sure that you fill in the **Discussion** cell with your findings and decisions at the end of each step that has one!\n",
    "\n",
    "#### Step 1.1.1: Convert Missing Value Codes to NaNs\n",
    "The fourth column of the feature attributes summary (loaded in above as `feat_info`) documents the codes from the data dictionary that indicate missing or unknown data. While the file encodes this as a list (e.g. `[-1,0]`), this will get read in as a string object. You'll need to do a little bit of parsing to make use of it to identify and clean the data. Convert data that matches a 'missing' or 'unknown' value code into a numpy NaN value. You might want to see how much data takes on a 'missing' or 'unknown' code, and how much data is naturally missing, as a point of interest.\n",
    "\n",
    "**As one more reminder, you are encouraged to add additional cells to break up your analysis into manageable chunks.**"
   ]
  },
  {
   "cell_type": "code",
   "execution_count": 8,
   "metadata": {},
   "outputs": [],
   "source": [
    "def unknown_col_correction(unknown_col):\n",
    "    unknown_values_corr=pd.DataFrame()\n",
    "    for x in unknown_col:\n",
    "        x=list(x)\n",
    "        x.remove('[')\n",
    "        x.remove(']')\n",
    "        while ',' in x:   \n",
    "            x.remove(',')\n",
    "        unknown_values=[]\n",
    "        flag=0\n",
    "        for i in range(len(x)):\n",
    "            if flag==1:\n",
    "                flag=0\n",
    "                continue\n",
    "            if x[i]=='-':\n",
    "                unknown_values.append(int(x[i+1])*-1)\n",
    "                flag=1\n",
    "            elif x[i]=='X':\n",
    "                unknown_values.append(\"XX\")\n",
    "                flag=1\n",
    "            else:\n",
    "                unknown_values.append(int(x[i]))\n",
    "        unknown_values_corr=unknown_values_corr.append(pd.Series([unknown_values]),ignore_index=True)        \n",
    "    return unknown_values_corr        \n"
   ]
  },
  {
   "cell_type": "code",
   "execution_count": 9,
   "metadata": {},
   "outputs": [
    {
     "data": {
      "text/html": [
       "<div>\n",
       "<style scoped>\n",
       "    .dataframe tbody tr th:only-of-type {\n",
       "        vertical-align: middle;\n",
       "    }\n",
       "\n",
       "    .dataframe tbody tr th {\n",
       "        vertical-align: top;\n",
       "    }\n",
       "\n",
       "    .dataframe thead th {\n",
       "        text-align: right;\n",
       "    }\n",
       "</style>\n",
       "<table border=\"1\" class=\"dataframe\">\n",
       "  <thead>\n",
       "    <tr style=\"text-align: right;\">\n",
       "      <th></th>\n",
       "      <th>attribute</th>\n",
       "      <th>information_level</th>\n",
       "      <th>type</th>\n",
       "      <th>missing_or_unknown</th>\n",
       "      <th>corrected_unknown</th>\n",
       "    </tr>\n",
       "  </thead>\n",
       "  <tbody>\n",
       "    <tr>\n",
       "      <th>0</th>\n",
       "      <td>AGER_TYP</td>\n",
       "      <td>person</td>\n",
       "      <td>categorical</td>\n",
       "      <td>[-1,0]</td>\n",
       "      <td>[-1, 0]</td>\n",
       "    </tr>\n",
       "    <tr>\n",
       "      <th>1</th>\n",
       "      <td>ALTERSKATEGORIE_GROB</td>\n",
       "      <td>person</td>\n",
       "      <td>ordinal</td>\n",
       "      <td>[-1,0,9]</td>\n",
       "      <td>[-1, 0, 9]</td>\n",
       "    </tr>\n",
       "    <tr>\n",
       "      <th>2</th>\n",
       "      <td>ANREDE_KZ</td>\n",
       "      <td>person</td>\n",
       "      <td>categorical</td>\n",
       "      <td>[-1,0]</td>\n",
       "      <td>[-1, 0]</td>\n",
       "    </tr>\n",
       "    <tr>\n",
       "      <th>3</th>\n",
       "      <td>CJT_GESAMTTYP</td>\n",
       "      <td>person</td>\n",
       "      <td>categorical</td>\n",
       "      <td>[0]</td>\n",
       "      <td>[0]</td>\n",
       "    </tr>\n",
       "    <tr>\n",
       "      <th>4</th>\n",
       "      <td>FINANZ_MINIMALIST</td>\n",
       "      <td>person</td>\n",
       "      <td>ordinal</td>\n",
       "      <td>[-1]</td>\n",
       "      <td>[-1]</td>\n",
       "    </tr>\n",
       "  </tbody>\n",
       "</table>\n",
       "</div>"
      ],
      "text/plain": [
       "              attribute information_level         type missing_or_unknown  \\\n",
       "0              AGER_TYP            person  categorical             [-1,0]   \n",
       "1  ALTERSKATEGORIE_GROB            person      ordinal           [-1,0,9]   \n",
       "2             ANREDE_KZ            person  categorical             [-1,0]   \n",
       "3         CJT_GESAMTTYP            person  categorical                [0]   \n",
       "4     FINANZ_MINIMALIST            person      ordinal               [-1]   \n",
       "\n",
       "  corrected_unknown  \n",
       "0           [-1, 0]  \n",
       "1        [-1, 0, 9]  \n",
       "2           [-1, 0]  \n",
       "3               [0]  \n",
       "4              [-1]  "
      ]
     },
     "execution_count": 9,
     "metadata": {},
     "output_type": "execute_result"
    }
   ],
   "source": [
    "corrected_unknow_values=unknown_col_correction(feat_info.iloc[:,3])\n",
    "feat_info['corrected_unknown']=corrected_unknow_values\n",
    "feat_info.head()"
   ]
  },
  {
   "cell_type": "code",
   "execution_count": 10,
   "metadata": {},
   "outputs": [
    {
     "name": "stderr",
     "output_type": "stream",
     "text": [
      "/opt/conda/lib/python3.6/site-packages/ipykernel_launcher.py:5: SettingWithCopyWarning: \n",
      "A value is trying to be set on a copy of a slice from a DataFrame\n",
      "\n",
      "See the caveats in the documentation: http://pandas.pydata.org/pandas-docs/stable/indexing.html#indexing-view-versus-copy\n",
      "  \"\"\"\n"
     ]
    }
   ],
   "source": [
    "# Identify missing or unknown data values and convert them to NaNs.\n",
    "def missing_values_convert(df_input):\n",
    "    for i in range(len(feat_info)):\n",
    "        for unknown_value in feat_info.iloc[i,4]:\n",
    "           df_input.iloc[:,i][df_input.iloc[:,i]== unknown_value]=np.nan\n",
    "    return df_input\n",
    "\n",
    "azdias=missing_values_convert(azdias)"
   ]
  },
  {
   "cell_type": "markdown",
   "metadata": {},
   "source": [
    "#### Step 1.1.2: Assess Missing Data in Each Column\n",
    "\n",
    "How much missing data is present in each column? There are a few columns that are outliers in terms of the proportion of values that are missing. You will want to use matplotlib's [`hist()`](https://matplotlib.org/api/_as_gen/matplotlib.pyplot.hist.html) function to visualize the distribution of missing value counts to find these columns. Identify and document these columns. While some of these columns might have justifications for keeping or re-encoding the data, for this project you should just remove them from the dataframe. (Feel free to make remarks about these outlier columns in the discussion, however!)\n",
    "\n",
    "For the remaining features, are there any patterns in which columns have, or share, missing data?"
   ]
  },
  {
   "cell_type": "code",
   "execution_count": 11,
   "metadata": {},
   "outputs": [
    {
     "data": {
      "text/plain": [
       "array([[<matplotlib.axes._subplots.AxesSubplot object at 0x7f8f66b92438>]], dtype=object)"
      ]
     },
     "execution_count": 11,
     "metadata": {},
     "output_type": "execute_result"
    },
    {
     "data": {
      "image/png": "[encoded data removed]",
      "text/plain": [
       "<matplotlib.figure.Figure at 0x7f8f66bb5208>"
      ]
     },
     "metadata": {
      "needs_background": "light"
     },
     "output_type": "display_data"
    }
   ],
   "source": [
    "# Perform an assessment of how much missing data there is in each column of the\n",
    "# dataset.\n",
    "missing_data = pd.DataFrame(azdias.isnull().sum().reset_index())\n",
    "missing_data.columns = ['Column_name','Count_missing_value']\n",
    "missing_data.hist(bins=85)\n"
   ]
  },
  {
   "cell_type": "code",
   "execution_count": 12,
   "metadata": {},
   "outputs": [
    {
     "data": {
      "text/plain": [
       "2                 ANREDE_KZ\n",
       "4         FINANZ_MINIMALIST\n",
       "5             FINANZ_SPARER\n",
       "6          FINANZ_VORSORGER\n",
       "7            FINANZ_ANLEGER\n",
       "8     FINANZ_UNAUFFAELLIGER\n",
       "9          FINANZ_HAUSBAUER\n",
       "10                FINANZTYP\n",
       "13         GREEN_AVANTGARDE\n",
       "24                SEMIO_SOZ\n",
       "25                SEMIO_FAM\n",
       "26                SEMIO_REL\n",
       "27                SEMIO_MAT\n",
       "28               SEMIO_VERT\n",
       "29               SEMIO_LUST\n",
       "30                SEMIO_ERL\n",
       "31               SEMIO_KULT\n",
       "32                SEMIO_RAT\n",
       "33               SEMIO_KRIT\n",
       "34                SEMIO_DOM\n",
       "35               SEMIO_KAEM\n",
       "36            SEMIO_PFLICHT\n",
       "37              SEMIO_TRADV\n",
       "42                 ZABEOTYP\n",
       "Name: Column_name, dtype: object"
      ]
     },
     "execution_count": 12,
     "metadata": {},
     "output_type": "execute_result"
    }
   ],
   "source": [
    "# features with no missing or unknow values \n",
    "complete_features=missing_data[(missing_data['Count_missing_value']==0)]['Column_name']\n",
    "complete_features"
   ]
  },
  {
   "cell_type": "code",
   "execution_count": 13,
   "metadata": {},
   "outputs": [
    {
     "data": {
      "text/html": [
       "<div>\n",
       "<style scoped>\n",
       "    .dataframe tbody tr th:only-of-type {\n",
       "        vertical-align: middle;\n",
       "    }\n",
       "\n",
       "    .dataframe tbody tr th {\n",
       "        vertical-align: top;\n",
       "    }\n",
       "\n",
       "    .dataframe thead th {\n",
       "        text-align: right;\n",
       "    }\n",
       "</style>\n",
       "<table border=\"1\" class=\"dataframe\">\n",
       "  <thead>\n",
       "    <tr style=\"text-align: right;\">\n",
       "      <th></th>\n",
       "      <th>Column_name</th>\n",
       "      <th>Count_missing_value</th>\n",
       "    </tr>\n",
       "  </thead>\n",
       "  <tbody>\n",
       "    <tr>\n",
       "      <th>1</th>\n",
       "      <td>ALTERSKATEGORIE_GROB</td>\n",
       "      <td>2881</td>\n",
       "    </tr>\n",
       "    <tr>\n",
       "      <th>3</th>\n",
       "      <td>CJT_GESAMTTYP</td>\n",
       "      <td>4854</td>\n",
       "    </tr>\n",
       "    <tr>\n",
       "      <th>12</th>\n",
       "      <td>GFK_URLAUBERTYP</td>\n",
       "      <td>4854</td>\n",
       "    </tr>\n",
       "    <tr>\n",
       "      <th>14</th>\n",
       "      <td>HEALTH_TYP</td>\n",
       "      <td>111196</td>\n",
       "    </tr>\n",
       "    <tr>\n",
       "      <th>15</th>\n",
       "      <td>LP_LEBENSPHASE_FEIN</td>\n",
       "      <td>97632</td>\n",
       "    </tr>\n",
       "    <tr>\n",
       "      <th>16</th>\n",
       "      <td>LP_LEBENSPHASE_GROB</td>\n",
       "      <td>94572</td>\n",
       "    </tr>\n",
       "    <tr>\n",
       "      <th>17</th>\n",
       "      <td>LP_FAMILIE_FEIN</td>\n",
       "      <td>77792</td>\n",
       "    </tr>\n",
       "    <tr>\n",
       "      <th>18</th>\n",
       "      <td>LP_FAMILIE_GROB</td>\n",
       "      <td>77792</td>\n",
       "    </tr>\n",
       "    <tr>\n",
       "      <th>19</th>\n",
       "      <td>LP_STATUS_FEIN</td>\n",
       "      <td>4854</td>\n",
       "    </tr>\n",
       "    <tr>\n",
       "      <th>20</th>\n",
       "      <td>LP_STATUS_GROB</td>\n",
       "      <td>4854</td>\n",
       "    </tr>\n",
       "    <tr>\n",
       "      <th>21</th>\n",
       "      <td>NATIONALITAET_KZ</td>\n",
       "      <td>108315</td>\n",
       "    </tr>\n",
       "    <tr>\n",
       "      <th>22</th>\n",
       "      <td>PRAEGENDE_JUGENDJAHRE</td>\n",
       "      <td>108164</td>\n",
       "    </tr>\n",
       "    <tr>\n",
       "      <th>23</th>\n",
       "      <td>RETOURTYP_BK_S</td>\n",
       "      <td>4854</td>\n",
       "    </tr>\n",
       "    <tr>\n",
       "      <th>38</th>\n",
       "      <td>SHOPPER_TYP</td>\n",
       "      <td>111196</td>\n",
       "    </tr>\n",
       "    <tr>\n",
       "      <th>39</th>\n",
       "      <td>SOHO_KZ</td>\n",
       "      <td>73499</td>\n",
       "    </tr>\n",
       "    <tr>\n",
       "      <th>41</th>\n",
       "      <td>VERS_TYP</td>\n",
       "      <td>111196</td>\n",
       "    </tr>\n",
       "    <tr>\n",
       "      <th>44</th>\n",
       "      <td>ANZ_PERSONEN</td>\n",
       "      <td>73499</td>\n",
       "    </tr>\n",
       "    <tr>\n",
       "      <th>45</th>\n",
       "      <td>ANZ_TITEL</td>\n",
       "      <td>73499</td>\n",
       "    </tr>\n",
       "    <tr>\n",
       "      <th>46</th>\n",
       "      <td>HH_EINKOMMEN_SCORE</td>\n",
       "      <td>18348</td>\n",
       "    </tr>\n",
       "    <tr>\n",
       "      <th>48</th>\n",
       "      <td>W_KEIT_KIND_HH</td>\n",
       "      <td>147988</td>\n",
       "    </tr>\n",
       "    <tr>\n",
       "      <th>49</th>\n",
       "      <td>WOHNDAUER_2008</td>\n",
       "      <td>73499</td>\n",
       "    </tr>\n",
       "    <tr>\n",
       "      <th>50</th>\n",
       "      <td>ANZ_HAUSHALTE_AKTIV</td>\n",
       "      <td>99611</td>\n",
       "    </tr>\n",
       "    <tr>\n",
       "      <th>51</th>\n",
       "      <td>ANZ_HH_TITEL</td>\n",
       "      <td>97008</td>\n",
       "    </tr>\n",
       "    <tr>\n",
       "      <th>52</th>\n",
       "      <td>GEBAEUDETYP</td>\n",
       "      <td>93148</td>\n",
       "    </tr>\n",
       "    <tr>\n",
       "      <th>53</th>\n",
       "      <td>KONSUMNAEHE</td>\n",
       "      <td>73969</td>\n",
       "    </tr>\n",
       "    <tr>\n",
       "      <th>54</th>\n",
       "      <td>MIN_GEBAEUDEJAHR</td>\n",
       "      <td>93148</td>\n",
       "    </tr>\n",
       "    <tr>\n",
       "      <th>55</th>\n",
       "      <td>OST_WEST_KZ</td>\n",
       "      <td>93148</td>\n",
       "    </tr>\n",
       "    <tr>\n",
       "      <th>56</th>\n",
       "      <td>WOHNLAGE</td>\n",
       "      <td>93148</td>\n",
       "    </tr>\n",
       "    <tr>\n",
       "      <th>57</th>\n",
       "      <td>CAMEO_DEUG_2015</td>\n",
       "      <td>98979</td>\n",
       "    </tr>\n",
       "    <tr>\n",
       "      <th>58</th>\n",
       "      <td>CAMEO_DEU_2015</td>\n",
       "      <td>99352</td>\n",
       "    </tr>\n",
       "    <tr>\n",
       "      <th>59</th>\n",
       "      <td>CAMEO_INTL_2015</td>\n",
       "      <td>99352</td>\n",
       "    </tr>\n",
       "    <tr>\n",
       "      <th>60</th>\n",
       "      <td>KBA05_ANTG1</td>\n",
       "      <td>133324</td>\n",
       "    </tr>\n",
       "    <tr>\n",
       "      <th>61</th>\n",
       "      <td>KBA05_ANTG2</td>\n",
       "      <td>133324</td>\n",
       "    </tr>\n",
       "    <tr>\n",
       "      <th>62</th>\n",
       "      <td>KBA05_ANTG3</td>\n",
       "      <td>133324</td>\n",
       "    </tr>\n",
       "    <tr>\n",
       "      <th>63</th>\n",
       "      <td>KBA05_ANTG4</td>\n",
       "      <td>133324</td>\n",
       "    </tr>\n",
       "    <tr>\n",
       "      <th>65</th>\n",
       "      <td>KBA05_GBZ</td>\n",
       "      <td>133324</td>\n",
       "    </tr>\n",
       "    <tr>\n",
       "      <th>66</th>\n",
       "      <td>BALLRAUM</td>\n",
       "      <td>93740</td>\n",
       "    </tr>\n",
       "    <tr>\n",
       "      <th>67</th>\n",
       "      <td>EWDICHTE</td>\n",
       "      <td>93740</td>\n",
       "    </tr>\n",
       "    <tr>\n",
       "      <th>68</th>\n",
       "      <td>INNENSTADT</td>\n",
       "      <td>93740</td>\n",
       "    </tr>\n",
       "    <tr>\n",
       "      <th>69</th>\n",
       "      <td>GEBAEUDETYP_RASTER</td>\n",
       "      <td>93155</td>\n",
       "    </tr>\n",
       "    <tr>\n",
       "      <th>70</th>\n",
       "      <td>KKK</td>\n",
       "      <td>158064</td>\n",
       "    </tr>\n",
       "    <tr>\n",
       "      <th>71</th>\n",
       "      <td>MOBI_REGIO</td>\n",
       "      <td>133324</td>\n",
       "    </tr>\n",
       "    <tr>\n",
       "      <th>72</th>\n",
       "      <td>ONLINE_AFFINITAET</td>\n",
       "      <td>4854</td>\n",
       "    </tr>\n",
       "    <tr>\n",
       "      <th>73</th>\n",
       "      <td>REGIOTYP</td>\n",
       "      <td>158064</td>\n",
       "    </tr>\n",
       "    <tr>\n",
       "      <th>74</th>\n",
       "      <td>KBA13_ANZAHL_PKW</td>\n",
       "      <td>105800</td>\n",
       "    </tr>\n",
       "    <tr>\n",
       "      <th>75</th>\n",
       "      <td>PLZ8_ANTG1</td>\n",
       "      <td>116515</td>\n",
       "    </tr>\n",
       "    <tr>\n",
       "      <th>76</th>\n",
       "      <td>PLZ8_ANTG2</td>\n",
       "      <td>116515</td>\n",
       "    </tr>\n",
       "    <tr>\n",
       "      <th>77</th>\n",
       "      <td>PLZ8_ANTG3</td>\n",
       "      <td>116515</td>\n",
       "    </tr>\n",
       "    <tr>\n",
       "      <th>78</th>\n",
       "      <td>PLZ8_ANTG4</td>\n",
       "      <td>116515</td>\n",
       "    </tr>\n",
       "    <tr>\n",
       "      <th>79</th>\n",
       "      <td>PLZ8_BAUMAX</td>\n",
       "      <td>116515</td>\n",
       "    </tr>\n",
       "    <tr>\n",
       "      <th>80</th>\n",
       "      <td>PLZ8_HHZ</td>\n",
       "      <td>116515</td>\n",
       "    </tr>\n",
       "    <tr>\n",
       "      <th>81</th>\n",
       "      <td>PLZ8_GBZ</td>\n",
       "      <td>116515</td>\n",
       "    </tr>\n",
       "    <tr>\n",
       "      <th>82</th>\n",
       "      <td>ARBEIT</td>\n",
       "      <td>97375</td>\n",
       "    </tr>\n",
       "    <tr>\n",
       "      <th>83</th>\n",
       "      <td>ORTSGR_KLS9</td>\n",
       "      <td>97274</td>\n",
       "    </tr>\n",
       "    <tr>\n",
       "      <th>84</th>\n",
       "      <td>RELAT_AB</td>\n",
       "      <td>97375</td>\n",
       "    </tr>\n",
       "  </tbody>\n",
       "</table>\n",
       "</div>"
      ],
      "text/plain": [
       "              Column_name  Count_missing_value\n",
       "1    ALTERSKATEGORIE_GROB                 2881\n",
       "3           CJT_GESAMTTYP                 4854\n",
       "12        GFK_URLAUBERTYP                 4854\n",
       "14             HEALTH_TYP               111196\n",
       "15    LP_LEBENSPHASE_FEIN                97632\n",
       "16    LP_LEBENSPHASE_GROB                94572\n",
       "17        LP_FAMILIE_FEIN                77792\n",
       "18        LP_FAMILIE_GROB                77792\n",
       "19         LP_STATUS_FEIN                 4854\n",
       "20         LP_STATUS_GROB                 4854\n",
       "21       NATIONALITAET_KZ               108315\n",
       "22  PRAEGENDE_JUGENDJAHRE               108164\n",
       "23         RETOURTYP_BK_S                 4854\n",
       "38            SHOPPER_TYP               111196\n",
       "39                SOHO_KZ                73499\n",
       "41               VERS_TYP               111196\n",
       "44           ANZ_PERSONEN                73499\n",
       "45              ANZ_TITEL                73499\n",
       "46     HH_EINKOMMEN_SCORE                18348\n",
       "48         W_KEIT_KIND_HH               147988\n",
       "49         WOHNDAUER_2008                73499\n",
       "50    ANZ_HAUSHALTE_AKTIV                99611\n",
       "51           ANZ_HH_TITEL                97008\n",
       "52            GEBAEUDETYP                93148\n",
       "53            KONSUMNAEHE                73969\n",
       "54       MIN_GEBAEUDEJAHR                93148\n",
       "55            OST_WEST_KZ                93148\n",
       "56               WOHNLAGE                93148\n",
       "57        CAMEO_DEUG_2015                98979\n",
       "58         CAMEO_DEU_2015                99352\n",
       "59        CAMEO_INTL_2015                99352\n",
       "60            KBA05_ANTG1               133324\n",
       "61            KBA05_ANTG2               133324\n",
       "62            KBA05_ANTG3               133324\n",
       "63            KBA05_ANTG4               133324\n",
       "65              KBA05_GBZ               133324\n",
       "66               BALLRAUM                93740\n",
       "67               EWDICHTE                93740\n",
       "68             INNENSTADT                93740\n",
       "69     GEBAEUDETYP_RASTER                93155\n",
       "70                    KKK               158064\n",
       "71             MOBI_REGIO               133324\n",
       "72      ONLINE_AFFINITAET                 4854\n",
       "73               REGIOTYP               158064\n",
       "74       KBA13_ANZAHL_PKW               105800\n",
       "75             PLZ8_ANTG1               116515\n",
       "76             PLZ8_ANTG2               116515\n",
       "77             PLZ8_ANTG3               116515\n",
       "78             PLZ8_ANTG4               116515\n",
       "79            PLZ8_BAUMAX               116515\n",
       "80               PLZ8_HHZ               116515\n",
       "81               PLZ8_GBZ               116515\n",
       "82                 ARBEIT                97375\n",
       "83            ORTSGR_KLS9                97274\n",
       "84               RELAT_AB                97375"
      ]
     },
     "execution_count": 13,
     "metadata": {},
     "output_type": "execute_result"
    }
   ],
   "source": [
    "# features with missing values but not outliers \n",
    "\n",
    "features_missing_data=missing_data[(missing_data['Count_missing_value']>0) & (missing_data['Count_missing_value']<200000)  ]\n",
    "features_missing_data"
   ]
  },
  {
   "cell_type": "code",
   "execution_count": 14,
   "metadata": {},
   "outputs": [
    {
     "data": {
      "text/html": [
       "<div>\n",
       "<style scoped>\n",
       "    .dataframe tbody tr th:only-of-type {\n",
       "        vertical-align: middle;\n",
       "    }\n",
       "\n",
       "    .dataframe tbody tr th {\n",
       "        vertical-align: top;\n",
       "    }\n",
       "\n",
       "    .dataframe thead th {\n",
       "        text-align: right;\n",
       "    }\n",
       "</style>\n",
       "<table border=\"1\" class=\"dataframe\">\n",
       "  <thead>\n",
       "    <tr style=\"text-align: right;\">\n",
       "      <th></th>\n",
       "      <th>Column_name</th>\n",
       "      <th>Count_missing_value</th>\n",
       "    </tr>\n",
       "  </thead>\n",
       "  <tbody>\n",
       "    <tr>\n",
       "      <th>0</th>\n",
       "      <td>AGER_TYP</td>\n",
       "      <td>685843</td>\n",
       "    </tr>\n",
       "    <tr>\n",
       "      <th>11</th>\n",
       "      <td>GEBURTSJAHR</td>\n",
       "      <td>392318</td>\n",
       "    </tr>\n",
       "    <tr>\n",
       "      <th>40</th>\n",
       "      <td>TITEL_KZ</td>\n",
       "      <td>889061</td>\n",
       "    </tr>\n",
       "    <tr>\n",
       "      <th>43</th>\n",
       "      <td>ALTER_HH</td>\n",
       "      <td>310267</td>\n",
       "    </tr>\n",
       "    <tr>\n",
       "      <th>47</th>\n",
       "      <td>KK_KUNDENTYP</td>\n",
       "      <td>584612</td>\n",
       "    </tr>\n",
       "    <tr>\n",
       "      <th>64</th>\n",
       "      <td>KBA05_BAUMAX</td>\n",
       "      <td>476524</td>\n",
       "    </tr>\n",
       "  </tbody>\n",
       "</table>\n",
       "</div>"
      ],
      "text/plain": [
       "     Column_name  Count_missing_value\n",
       "0       AGER_TYP               685843\n",
       "11   GEBURTSJAHR               392318\n",
       "40      TITEL_KZ               889061\n",
       "43      ALTER_HH               310267\n",
       "47  KK_KUNDENTYP               584612\n",
       "64  KBA05_BAUMAX               476524"
      ]
     },
     "execution_count": 14,
     "metadata": {},
     "output_type": "execute_result"
    }
   ],
   "source": [
    "missing_data[ (missing_data['Count_missing_value']>200000)  ]"
   ]
  },
  {
   "cell_type": "code",
   "execution_count": 15,
   "metadata": {},
   "outputs": [
    {
     "data": {
      "text/plain": [
       "0         AGER_TYP\n",
       "11     GEBURTSJAHR\n",
       "40        TITEL_KZ\n",
       "43        ALTER_HH\n",
       "47    KK_KUNDENTYP\n",
       "64    KBA05_BAUMAX\n",
       "Name: Column_name, dtype: object"
      ]
     },
     "execution_count": 15,
     "metadata": {},
     "output_type": "execute_result"
    }
   ],
   "source": [
    "outliers_features=missing_data[(missing_data['Count_missing_value']>200000)]['Column_name']\n",
    "outliers_features"
   ]
  },
  {
   "cell_type": "code",
   "execution_count": 16,
   "metadata": {},
   "outputs": [
    {
     "data": {
      "text/plain": [
       "array([[<matplotlib.axes._subplots.AxesSubplot object at 0x7f8f64a018d0>]], dtype=object)"
      ]
     },
     "execution_count": 16,
     "metadata": {},
     "output_type": "execute_result"
    },
    {
     "data": {
      "image/png": "[encoded data removed]",
      "text/plain": [
       "<matplotlib.figure.Figure at 0x7f8f64a3c8d0>"
      ]
     },
     "metadata": {
      "needs_background": "light"
     },
     "output_type": "display_data"
    }
   ],
   "source": [
    "# Investigate patterns in the amount of missing data in each column.\n",
    "\n",
    "missing_data[(missing_data['Count_missing_value']>0) & (missing_data['Count_missing_value']<200000)  ].hist()"
   ]
  },
  {
   "cell_type": "code",
   "execution_count": 17,
   "metadata": {},
   "outputs": [],
   "source": [
    "# Remove the outlier columns from the dataset. (You'll perform other data\n",
    "# engineering tasks such as re-encoding and imputation later.)\n",
    "\n",
    "azdias.drop(labels=outliers_features ,axis=1,inplace=True)\n"
   ]
  },
  {
   "cell_type": "markdown",
   "metadata": {},
   "source": [
    "#### Discussion 1.1.2: Assess Missing Data in Each Column\n",
    "\n",
    "(Double click this cell and replace this text with your own text, reporting your observations regarding the amount of missing data in each column. Are there any patterns in missing values? Which columns were removed from the dataset?)\n",
    "\n",
    "My observation regarding the number of missing data:\n",
    "\n",
    "The columns which have no missing or unknown are the Personality typology and the Financial typology and both are the core features, so they cannot be missing.\n",
    "\n",
    "Most of the missing values are in the range between 0 and 200,000 and they are centered around 100,000.\n",
    "\n",
    "The columns removed from the dataset are the following:\n",
    "* AGER_TYP\n",
    "* GEBURTSJAHR\n",
    "* TITEL_KZ\n",
    "* ALTER_HH\n",
    "* KK_KUNDENTYP\n",
    "* KBA05_BAUMAX"
   ]
  },
  {
   "cell_type": "markdown",
   "metadata": {},
   "source": [
    "#### Step 1.1.3: Assess Missing Data in Each Row\n",
    "\n",
    "Now, you'll perform a similar assessment for the rows of the dataset. How much data is missing in each row? As with the columns, you should see some groups of points that have a very different numbers of missing values. Divide the data into two subsets: one for data points that are above some threshold for missing values, and a second subset for points below that threshold.\n",
    "\n",
    "In order to know what to do with the outlier rows, we should see if the distribution of data values on columns that are not missing data (or are missing very little data) are similar or different between the two groups. Select at least five of these columns and compare the distribution of values.\n",
    "- You can use seaborn's [`countplot()`](https://seaborn.pydata.org/generated/seaborn.countplot.html) function to create a bar chart of code frequencies and matplotlib's [`subplot()`](https://matplotlib.org/api/_as_gen/matplotlib.pyplot.subplot.html) function to put bar charts for the two subplots side by side.\n",
    "- To reduce repeated code, you might want to write a function that can perform this comparison, taking as one of its arguments a column to be compared.\n",
    "\n",
    "Depending on what you observe in your comparison, this will have implications on how you approach your conclusions later in the analysis. If the distributions of non-missing features look similar between the data with many missing values and the data with few or no missing values, then we could argue that simply dropping those points from the analysis won't present a major issue. On the other hand, if the data with many missing values looks very different from the data with few or no missing values, then we should make a note on those data as special. We'll revisit these data later on. **Either way, you should continue your analysis for now using just the subset of the data with few or no missing values.**"
   ]
  },
  {
   "cell_type": "code",
   "execution_count": 18,
   "metadata": {},
   "outputs": [],
   "source": [
    "# How much data is missing in each row of the dataset?\n",
    "azdias['number_missing_values']=azdias.isnull().sum(axis=1)\n"
   ]
  },
  {
   "cell_type": "code",
   "execution_count": 19,
   "metadata": {},
   "outputs": [
    {
     "data": {
      "text/plain": [
       "<matplotlib.axes._subplots.AxesSubplot at 0x7f8f66abb390>"
      ]
     },
     "execution_count": 19,
     "metadata": {},
     "output_type": "execute_result"
    },
    {
     "data": {
      "image/png": "[encoded data removed]",
      "text/plain": [
       "<matplotlib.figure.Figure at 0x7f8f64943e80>"
      ]
     },
     "metadata": {
      "needs_background": "light"
     },
     "output_type": "display_data"
    }
   ],
   "source": [
    "azdias['number_missing_values'].hist(bins=20)"
   ]
  },
  {
   "cell_type": "code",
   "execution_count": 20,
   "metadata": {},
   "outputs": [],
   "source": [
    "# Write code to divide the data into two subsets based on the number of missing\n",
    "# values in each row.\n",
    "azdias_below_threshold=azdias[azdias['number_missing_values']<30]\n",
    "azdias_above_threshold=azdias[azdias['number_missing_values']>30]\n"
   ]
  },
  {
   "cell_type": "code",
   "execution_count": 21,
   "metadata": {},
   "outputs": [],
   "source": [
    "def distrubition_compare(features,input1,input2):\n",
    "    fig, axes = plt.subplots(5, 2, figsize=(10, 30))\n",
    "    \n",
    "    for i,feature in enumerate(features):\n",
    "        sns.countplot(ax=axes[i,0],data=input1[feature],x=input1[feature])\n",
    "        axes[i,0].set_title(feature)\n",
    "        sns.countplot(ax=axes[i,1],data=input2[feature],x=input2[feature])\n",
    "        axes[i,1].set_title(feature)\n",
    "\n",
    "    "
   ]
  },
  {
   "cell_type": "code",
   "execution_count": 22,
   "metadata": {},
   "outputs": [
    {
     "data": {
      "image/png": "[encoded data removed]",
      "text/plain": [
       "<matplotlib.figure.Figure at 0x7f8f64930eb8>"
      ]
     },
     "metadata": {
      "needs_background": "light"
     },
     "output_type": "display_data"
    }
   ],
   "source": [
    "# Compare the distribution of values for at least five columns where there are\n",
    "# no or few missing values, between the two subsets.\n",
    "no_missing_values_features=['SEMIO_SOZ','SEMIO_MAT','FINANZTYP','FINANZ_HAUSBAUER', 'SEMIO_TRADV']\n",
    "distrubition_compare(no_missing_values_features,azdias_above_threshold,azdias_below_threshold)\n"
   ]
  },
  {
   "cell_type": "markdown",
   "metadata": {},
   "source": [
    "#### Discussion 1.1.3: Assess Missing Data in Each Row\n",
    "\n",
    "(Double-click this cell and replace this text with your own text, reporting your observations regarding missing data in rows. Are the data with lots of missing values are qualitatively different from data with few or no missing values?)\n",
    "\n",
    "yes, the data with lots of missing values are concetated in one value, while the data with few missing values are evenly distrubeted around all the values."
   ]
  },
  {
   "cell_type": "markdown",
   "metadata": {},
   "source": [
    "### Step 1.2: Select and Re-Encode Features\n",
    "\n",
    "Checking for missing data isn't the only way in which you can prepare a dataset for analysis. Since the unsupervised learning techniques to be used will only work on data that is encoded numerically, you need to make a few encoding changes or additional assumptions to be able to make progress. In addition, while almost all of the values in the dataset are encoded using numbers, not all of them represent numeric values. Check the third column of the feature summary (`feat_info`) for a summary of types of measurement.\n",
    "- For numeric and interval data, these features can be kept without changes.\n",
    "- Most of the variables in the dataset are ordinal in nature. While ordinal values may technically be non-linear in spacing, make the simplifying assumption that the ordinal variables can be treated as being interval in nature (that is, kept without any changes).\n",
    "- Special handling may be necessary for the remaining two variable types: categorical, and 'mixed'.\n",
    "\n",
    "In the first two parts of this sub-step, you will perform an investigation of the categorical and mixed-type features and make a decision on each of them, whether you will keep, drop, or re-encode each. Then, in the last part, you will create a new data frame with only the selected and engineered columns.\n",
    "\n",
    "Data wrangling is often the trickiest part of the data analysis process, and there's a lot of it to be done here. But stick with it: once you're done with this step, you'll be ready to get to the machine learning parts of the project!"
   ]
  },
  {
   "cell_type": "code",
   "execution_count": 23,
   "metadata": {},
   "outputs": [
    {
     "data": {
      "text/plain": [
       "ordinal        49\n",
       "categorical    21\n",
       "mixed           7\n",
       "numeric         7\n",
       "interval        1\n",
       "Name: type, dtype: int64"
      ]
     },
     "execution_count": 23,
     "metadata": {},
     "output_type": "execute_result"
    }
   ],
   "source": [
    "# How many features are there of each data type?\n",
    "\n",
    "type_count=feat_info['type'].value_counts()\n",
    "type_count"
   ]
  },
  {
   "cell_type": "markdown",
   "metadata": {},
   "source": [
    "#### Step 1.2.1: Re-Encode Categorical Features\n",
    "\n",
    "For categorical data, you would ordinarily need to encode the levels as dummy variables. Depending on the number of categories, perform one of the following:\n",
    "- For binary (two-level) categoricals that take numeric values, you can keep them without needing to do anything.\n",
    "- There is one binary variable that takes on non-numeric values. For this one, you need to re-encode the values as numbers or create a dummy variable.\n",
    "- For multi-level categoricals (three or more values), you can choose to encode the values using multiple dummy variables (e.g. via [OneHotEncoder](http://scikit-learn.org/stable/modules/generated/sklearn.preprocessing.OneHotEncoder.html)), or (to keep things straightforward) just drop them from the analysis. As always, document your choices in the Discussion section."
   ]
  },
  {
   "cell_type": "code",
   "execution_count": 24,
   "metadata": {},
   "outputs": [
    {
     "name": "stderr",
     "output_type": "stream",
     "text": [
      "/opt/conda/lib/python3.6/site-packages/pandas/core/frame.py:3697: SettingWithCopyWarning: \n",
      "A value is trying to be set on a copy of a slice from a DataFrame\n",
      "\n",
      "See the caveats in the documentation: http://pandas.pydata.org/pandas-docs/stable/indexing.html#indexing-view-versus-copy\n",
      "  errors=errors)\n"
     ]
    }
   ],
   "source": [
    "# Assess categorical variables: which are binary, which are multi-level, and\n",
    "# which one needs to be re-encoded?\n",
    "\n",
    "cat_features=feat_info[(feat_info['type']== 'categorical')]\n",
    "\n",
    "for i in range(len(outliers_features.values)):\n",
    "    cat_features=cat_features[cat_features['attribute']!=outliers_features.values[i]]\n",
    "    \n",
    "cat_feat_unique_values=pd.DataFrame(azdias_below_threshold[cat_features['attribute']].nunique())\n",
    "cat_feat_unique_values=cat_feat_unique_values.reset_index()\n",
    "cat_feat_unique_values.rename(columns={'index':'features', 0:'number_unique_values'},inplace=True)\n",
    "\n",
    "binary_features=  cat_feat_unique_values[cat_feat_unique_values['number_unique_values']==2] \n",
    "multi_level_features= cat_feat_unique_values[cat_feat_unique_values['number_unique_values']>=3]\n",
    "\n",
    "azdias_below_threshold.drop(labels=multi_level_features['features'],axis=1,inplace=True)"
   ]
  },
  {
   "cell_type": "code",
   "execution_count": 25,
   "metadata": {},
   "outputs": [
    {
     "name": "stderr",
     "output_type": "stream",
     "text": [
      "/opt/conda/lib/python3.6/site-packages/pandas/core/frame.py:3140: SettingWithCopyWarning: \n",
      "A value is trying to be set on a copy of a slice from a DataFrame.\n",
      "Try using .loc[row_indexer,col_indexer] = value instead\n",
      "\n",
      "See the caveats in the documentation: http://pandas.pydata.org/pandas-docs/stable/indexing.html#indexing-view-versus-copy\n",
      "  self[k1] = value[k2]\n"
     ]
    }
   ],
   "source": [
    "# Re-encode categorical variable(s) to be kept in the analysis.\n",
    "feature_reencoded=azdias_below_threshold[binary_features['features']].select_dtypes(include=['object']).columns\n",
    "azdias_below_threshold[feature_reencoded]=azdias_below_threshold[feature_reencoded].replace({'W': 1,'O':0})\n"
   ]
  },
  {
   "cell_type": "markdown",
   "metadata": {},
   "source": [
    "#### Discussion 1.2.1: Re-Encode Categorical Features\n",
    "\n",
    "(Double-click this cell and replace this text with your own text, reporting your findings and decisions regarding categorical features. Which ones did you keep, which did you drop, and what engineering steps did you perform?)\n",
    "\n",
    "I kept the following features :\n",
    "\n",
    "* ANREDE_KZ\n",
    "* GREEN_AVANTGARDE\n",
    "* SOHO_KZ\n",
    "* VERS_TYP\n",
    "* OST_WEST_KZ\n",
    "\n",
    "Removed the following:\n",
    "\n",
    "* CJT_GESAMTTYP\n",
    "* FINANZTYP\n",
    "* GFK_URLAUBERTYP\n",
    "* LP_FAMILIE_FEIN\n",
    "* LP_FAMILIE_GROB\n",
    "* LP_STATUS_FEIN\n",
    "* LP_STATUS_GROB\n",
    "* NATIONALITAET_KZ\n",
    "* SHOPPER_TYP\n",
    "* ZABEOTYP\n",
    "* GEBAEUDETYP\n",
    "* CAMEO_DEUG_2015\n",
    "* CAMEO_DEU_2015\n",
    "\n",
    "For the feature OST_WEST_KZ , it has non numeric value \"W\" and it was replaced with numeric value 1 instead  and \"O\" was replaced with 0\n"
   ]
  },
  {
   "cell_type": "markdown",
   "metadata": {},
   "source": [
    "#### Step 1.2.2: Engineer Mixed-Type Features\n",
    "\n",
    "There are a handful of features that are marked as \"mixed\" in the feature summary that require special treatment in order to be included in the analysis. There are two in particular that deserve attention; the handling of the rest are up to your own choices:\n",
    "- \"PRAEGENDE_JUGENDJAHRE\" combines information on three dimensions: generation by decade, movement (mainstream vs. avantgarde), and nation (east vs. west). While there aren't enough levels to disentangle east from west, you should create two new variables to capture the other two dimensions: an interval-type variable for decade, and a binary variable for movement.\n",
    "- \"CAMEO_INTL_2015\" combines information on two axes: wealth and life stage. Break up the two-digit codes by their 'tens'-place and 'ones'-place digits into two new ordinal variables (which, for the purposes of this project, is equivalent to just treating them as their raw numeric values).\n",
    "- If you decide to keep or engineer new features around the other mixed-type features, make sure you note your steps in the Discussion section.\n",
    "\n",
    "Be sure to check `Data_Dictionary.md` for the details needed to finish these tasks."
   ]
  },
  {
   "cell_type": "code",
   "execution_count": 26,
   "metadata": {},
   "outputs": [],
   "source": [
    "mixed_features=feat_info[(feat_info['type']== 'mixed')  ]\n",
    "for i in range(len(outliers_features.values)):\n",
    "    mixed_features=mixed_features[mixed_features['attribute']!=outliers_features.values[i]]"
   ]
  },
  {
   "cell_type": "code",
   "execution_count": 27,
   "metadata": {},
   "outputs": [
    {
     "name": "stderr",
     "output_type": "stream",
     "text": [
      "/opt/conda/lib/python3.6/site-packages/ipykernel_launcher.py:2: SettingWithCopyWarning: \n",
      "A value is trying to be set on a copy of a slice from a DataFrame.\n",
      "Try using .loc[row_indexer,col_indexer] = value instead\n",
      "\n",
      "See the caveats in the documentation: http://pandas.pydata.org/pandas-docs/stable/indexing.html#indexing-view-versus-copy\n",
      "  \n",
      "/opt/conda/lib/python3.6/site-packages/ipykernel_launcher.py:3: SettingWithCopyWarning: \n",
      "A value is trying to be set on a copy of a slice from a DataFrame.\n",
      "Try using .loc[row_indexer,col_indexer] = value instead\n",
      "\n",
      "See the caveats in the documentation: http://pandas.pydata.org/pandas-docs/stable/indexing.html#indexing-view-versus-copy\n",
      "  This is separate from the ipykernel package so we can avoid doing imports until\n"
     ]
    }
   ],
   "source": [
    "# Investigate \"PRAEGENDE_JUGENDJAHRE\" and engineer two new variables.\n",
    "azdias_below_threshold['PRAEGENDE_JUGENDJAHRE_age']= azdias_below_threshold['PRAEGENDE_JUGENDJAHRE'].replace({1:1,2:1,3:2,4:2,5:3,6:3,7:3,8:4,9:4,10:5,11:5,12:5,13:5,14:6,15:6})\n",
    "azdias_below_threshold['PRAEGENDE_JUGENDJAHRE_movment']=azdias_below_threshold['PRAEGENDE_JUGENDJAHRE'].replace({1:0,3:0,5:0,8:0,10:0,12:0,14:0,2:1,4:1,6:1,7:1,9:1,11:1,13:1,15:1})\n"
   ]
  },
  {
   "cell_type": "code",
   "execution_count": 28,
   "metadata": {},
   "outputs": [
    {
     "name": "stderr",
     "output_type": "stream",
     "text": [
      "/opt/conda/lib/python3.6/site-packages/ipykernel_launcher.py:7: SettingWithCopyWarning: \n",
      "A value is trying to be set on a copy of a slice from a DataFrame.\n",
      "Try using .loc[row_indexer,col_indexer] = value instead\n",
      "\n",
      "See the caveats in the documentation: http://pandas.pydata.org/pandas-docs/stable/indexing.html#indexing-view-versus-copy\n",
      "  import sys\n",
      "/opt/conda/lib/python3.6/site-packages/ipykernel_launcher.py:8: SettingWithCopyWarning: \n",
      "A value is trying to be set on a copy of a slice from a DataFrame.\n",
      "Try using .loc[row_indexer,col_indexer] = value instead\n",
      "\n",
      "See the caveats in the documentation: http://pandas.pydata.org/pandas-docs/stable/indexing.html#indexing-view-versus-copy\n",
      "  \n",
      "/opt/conda/lib/python3.6/site-packages/ipykernel_launcher.py:11: SettingWithCopyWarning: \n",
      "A value is trying to be set on a copy of a slice from a DataFrame.\n",
      "Try using .loc[row_indexer,col_indexer] = value instead\n",
      "\n",
      "See the caveats in the documentation: http://pandas.pydata.org/pandas-docs/stable/indexing.html#indexing-view-versus-copy\n",
      "  # This is added back by InteractiveShellApp.init_path()\n",
      "/opt/conda/lib/python3.6/site-packages/ipykernel_launcher.py:12: SettingWithCopyWarning: \n",
      "A value is trying to be set on a copy of a slice from a DataFrame.\n",
      "Try using .loc[row_indexer,col_indexer] = value instead\n",
      "\n",
      "See the caveats in the documentation: http://pandas.pydata.org/pandas-docs/stable/indexing.html#indexing-view-versus-copy\n",
      "  if sys.path[0] == '':\n",
      "/opt/conda/lib/python3.6/site-packages/pandas/core/frame.py:3697: SettingWithCopyWarning: \n",
      "A value is trying to be set on a copy of a slice from a DataFrame\n",
      "\n",
      "See the caveats in the documentation: http://pandas.pydata.org/pandas-docs/stable/indexing.html#indexing-view-versus-copy\n",
      "  errors=errors)\n"
     ]
    }
   ],
   "source": [
    "# Investigate \"CAMEO_INTL_2015\" and engineer two new variables.\n",
    "\n",
    "unique_values=azdias_below_threshold['CAMEO_INTL_2015'].unique()\n",
    "unique_values=unique_values.astype(float)\n",
    "unique_values=np.delete(unique_values,np.argwhere(np.isnan(unique_values)))\n",
    "unique_values=unique_values.astype(int)\n",
    "azdias_below_threshold['CAMEO_INTL_2015_wealth']=azdias_below_threshold['CAMEO_INTL_2015']\n",
    "azdias_below_threshold['CAMEO_INTL_2015_family_stage']=azdias_below_threshold['CAMEO_INTL_2015']\n",
    "\n",
    "for unique_value in unique_values:\n",
    "    azdias_below_threshold['CAMEO_INTL_2015_wealth']=azdias_below_threshold['CAMEO_INTL_2015_wealth'].replace({str(unique_value):int(unique_value/10)})\n",
    "    azdias_below_threshold['CAMEO_INTL_2015_family_stage']=azdias_below_threshold['CAMEO_INTL_2015_family_stage'].replace({str(unique_value):int(str(unique_value)[1])})\n",
    "    \n",
    "azdias_below_threshold.drop(labels=mixed_features['attribute'],axis=1,inplace=True)    "
   ]
  },
  {
   "cell_type": "markdown",
   "metadata": {},
   "source": [
    "#### Discussion 1.2.2: Engineer Mixed-Type Features\n",
    "\n",
    "(Double-click this cell and replace this text with your own text, reporting your findings and decisions regarding mixed-value features. Which ones did you keep, which did you drop, and what engineering steps did you perform?)\n",
    "\n",
    "The features that were kept  PRAEGENDE_JUGENDJAHRE and CAMEO_INTL_2015, but after being splitted into 4 features.\n",
    "\n",
    "The following were removed:\n",
    "\n",
    " LP_LEBENSPHASE_FEIN\n",
    "* LP_LEBENSPHASE_GROB\n",
    "*  WOHNLAGE\n",
    "*  PLZ8_BAUMAX"
   ]
  },
  {
   "cell_type": "markdown",
   "metadata": {},
   "source": [
    "#### Step 1.2.3: Complete Feature Selection\n",
    "\n",
    "In order to finish this step up, you need to make sure that your data frame now only has the columns that you want to keep. To summarize, the dataframe should consist of the following:\n",
    "- All numeric, interval, and ordinal type columns from the original dataset.\n",
    "- Binary categorical features (all numerically-encoded).\n",
    "- Engineered features from other multi-level categorical features and mixed features.\n",
    "\n",
    "Make sure that for any new columns that you have engineered, that you've excluded the original columns from the final dataset. Otherwise, their values will interfere with the analysis later on the project. For example, you should not keep \"PRAEGENDE_JUGENDJAHRE\", since its values won't be useful for the algorithm: only the values derived from it in the engineered features you created should be retained. As a reminder, your data should only be from **the subset with few or no missing values**."
   ]
  },
  {
   "cell_type": "code",
   "execution_count": 29,
   "metadata": {},
   "outputs": [],
   "source": [
    "# If there are other re-engineering tasks you need to perform, make sure you\n",
    "# take care of them here. (Dealing with missing data will come in step 2.1.)\n",
    "\n"
   ]
  },
  {
   "cell_type": "code",
   "execution_count": 30,
   "metadata": {},
   "outputs": [],
   "source": [
    "# Do whatever you need to in order to ensure that the dataframe only contains\n",
    "# the columns that should be passed to the algorithm functions.\n",
    "\n"
   ]
  },
  {
   "cell_type": "markdown",
   "metadata": {},
   "source": [
    "### Step 1.3: Create a Cleaning Function\n",
    "\n",
    "Even though you've finished cleaning up the general population demographics data, it's important to look ahead to the future and realize that you'll need to perform the same cleaning steps on the customer demographics data. In this substep, complete the function below to execute the main feature selection, encoding, and re-engineering steps you performed above. Then, when it comes to looking at the customer data in Step 3, you can just run this function on that DataFrame to get the trimmed dataset in a single step."
   ]
  },
  {
   "cell_type": "code",
   "execution_count": 31,
   "metadata": {},
   "outputs": [],
   "source": [
    "def removing_columns_rows(df,outliers_features ,row_threshold):\n",
    "    missing_data = pd.DataFrame(df.isnull().sum().reset_index())\n",
    "    missing_data.columns = ['Column_name','Count_missing_value']\n",
    "    \n",
    "    #outliers_features=missing_data[(missing_data['Count_missing_value']>column_threshold)]['Column_name']\n",
    "    \n",
    "    df.drop(labels=outliers_features ,axis=1,inplace=True)\n",
    "\n",
    "    df['number_missing_values']=df.isnull().sum(axis=1)\n",
    "    df=df[df['number_missing_values']<row_threshold]\n",
    "    return df"
   ]
  },
  {
   "cell_type": "code",
   "execution_count": 32,
   "metadata": {},
   "outputs": [],
   "source": [
    "def removing_rencoding_features(df,outliers_features):\n",
    "    # categorical features re-encoding\n",
    "    cat_features=feat_info[(feat_info['type']== 'categorical')]\n",
    "    for i in range(len(outliers_features.values)):\n",
    "        cat_features=cat_features[cat_features['attribute']!=outliers_features.values[i]]\n",
    "    cat_feat_unique_values=pd.DataFrame(df[cat_features['attribute']].nunique())\n",
    "    cat_feat_unique_values=cat_feat_unique_values.reset_index()\n",
    "    cat_feat_unique_values.rename(columns={'index':'features', 0:'number_unique_values'},inplace=True)\n",
    "    \n",
    "    binary_features=  cat_feat_unique_values[cat_feat_unique_values['number_unique_values']==2] \n",
    "    multi_level_features= cat_feat_unique_values[cat_feat_unique_values['number_unique_values']>=3]\n",
    "    df=df.drop(labels=multi_level_features['features'],axis=1)\n",
    "    feature_reencoded=df[binary_features['features']].select_dtypes(include=['object']).columns\n",
    "    df[feature_reencoded]=df[feature_reencoded].replace({'W':1,'O':0})\n",
    "    \n",
    "    # mixed features re-encoding \n",
    "    mixed_features=feat_info[(feat_info['type']== 'mixed')  ]\n",
    "    for i in range(len(outliers_features.values)):\n",
    "        mixed_features=mixed_features[mixed_features['attribute']!=outliers_features.values[i]]\n",
    "\n",
    "    df['PRAEGENDE_JUGENDJAHRE_age']= df['PRAEGENDE_JUGENDJAHRE'].replace({1:1,2:1,3:2,4:2,5:3,6:3,7:3,8:4,9:4,10:5,11:5,12:5,13:5,14:6,15:6})\n",
    "    df['PRAEGENDE_JUGENDJAHRE_movment']=df['PRAEGENDE_JUGENDJAHRE'].replace({1:0,3:0,5:0,8:0,10:0,12:0,14:0,2:1,4:1,6:1,7:1,9:1,11:1,13:1,15:1})\n",
    "\n",
    "    unique_values=df['CAMEO_INTL_2015'].unique()\n",
    "    unique_values=unique_values.astype(float)\n",
    "    unique_values=np.delete(unique_values,np.argwhere(np.isnan(unique_values)))\n",
    "    unique_values=unique_values.astype(int)\n",
    "    df['CAMEO_INTL_2015_wealth']=df['CAMEO_INTL_2015']\n",
    "    df['CAMEO_INTL_2015_family_stage']=df['CAMEO_INTL_2015']\n",
    "\n",
    "    for unique_value in unique_values:\n",
    "        df['CAMEO_INTL_2015_wealth']=df['CAMEO_INTL_2015_wealth'].replace({str(unique_value):int(unique_value/10)})\n",
    "        df['CAMEO_INTL_2015_family_stage']=df['CAMEO_INTL_2015_family_stage'].replace({str(unique_value):int(str(unique_value)[1])})\n",
    "    \n",
    "    df=df.drop(labels=mixed_features['attribute'],axis=1)  \n",
    "    return df "
   ]
  },
  {
   "cell_type": "code",
   "execution_count": 33,
   "metadata": {},
   "outputs": [],
   "source": [
    "def clean_data(df,row_threshold):\n",
    "    \"\"\"\n",
    "    Perform feature trimming, re-encoding, and engineering for demographics\n",
    "    data\n",
    "    \n",
    "    INPUT: Demographics DataFrame\n",
    "    OUTPUT: Trimmed and cleaned demographics DataFrame\n",
    "    \"\"\"\n",
    "    \n",
    "    # Put in code here to execute all main cleaning steps:\n",
    "    # convert missing value codes into NaNs, ...\n",
    "    df=missing_values_convert(df)\n",
    "    # remove selected columns and rows, ...\n",
    "    df_col_row_removed=removing_columns_rows(df,outliers_features ,row_threshold)\n",
    "    # select, re-encode, and engineer column values.\n",
    "    df_rencoded=removing_rencoding_features(df_col_row_removed,outliers_features) \n",
    "    # Return the cleaned dataframe.\n",
    "    return df_rencoded\n",
    "    "
   ]
  },
  {
   "cell_type": "markdown",
   "metadata": {},
   "source": [
    "## Step 2: Feature Transformation\n",
    "\n",
    "### Step 2.1: Apply Feature Scaling\n",
    "\n",
    "Before we apply dimensionality reduction techniques to the data, we need to perform feature scaling so that the principal component vectors are not influenced by the natural differences in scale for features. Starting from this part of the project, you'll want to keep an eye on the [API reference page for sklearn](http://scikit-learn.org/stable/modules/classes.html) to help you navigate to all of the classes and functions that you'll need. In this substep, you'll need to check the following:\n",
    "\n",
    "- sklearn requires that data not have missing values in order for its estimators to work properly. So, before applying the scaler to your data, make sure that you've cleaned the DataFrame of the remaining missing values. This can be as simple as just removing all data points with missing data, or applying an [Imputer](http://scikit-learn.org/stable/modules/generated/sklearn.preprocessing.Imputer.html) to replace all missing values. You might also try a more complicated procedure where you temporarily remove missing values in order to compute the scaling parameters before re-introducing those missing values and applying imputation. Think about how much missing data you have and what possible effects each approach might have on your analysis, and justify your decision in the discussion section below.\n",
    "- For the actual scaling function, a [StandardScaler](http://scikit-learn.org/stable/modules/generated/sklearn.preprocessing.StandardScaler.html) instance is suggested, scaling each feature to mean 0 and standard deviation 1.\n",
    "- For these classes, you can make use of the `.fit_transform()` method to both fit a procedure to the data as well as apply the transformation to the data at the same time. Don't forget to keep the fit sklearn objects handy, since you'll be applying them to the customer demographics data towards the end of the project."
   ]
  },
  {
   "cell_type": "code",
   "execution_count": 34,
   "metadata": {},
   "outputs": [
    {
     "data": {
      "image/png": "[encoded data removed]",
      "text/plain": [
       "<matplotlib.figure.Figure at 0x7f8f48c49be0>"
      ]
     },
     "metadata": {
      "needs_background": "light"
     },
     "output_type": "display_data"
    },
    {
     "data": {
      "image/png": "[encoded data removed]",
      "text/plain": [
       "<matplotlib.figure.Figure at 0x7f8f48c491d0>"
      ]
     },
     "metadata": {
      "needs_background": "light"
     },
     "output_type": "display_data"
    }
   ],
   "source": [
    "# If you've not yet cleaned the dataset of all NaN values, then investigate and\n",
    "# do that now.\n",
    "\n",
    "column_miising=pd.DataFrame(azdias_below_threshold.isna()).sum(axis=0)\n",
    "rows_miising=pd.DataFrame(azdias_below_threshold.isna()).sum(axis=1)\n",
    "\n",
    "column_miising.hist()\n",
    "plt.figure()\n",
    "rows_miising.hist()\n",
    "\n",
    "from sklearn.preprocessing import Imputer\n",
    "simple_imp=Imputer(missing_values=np.nan, strategy='most_frequent')\n",
    "simple_imp_model=simple_imp.fit(azdias_below_threshold)\n",
    "azdias_imputed=simple_imp_model.transform(azdias_below_threshold)"
   ]
  },
  {
   "cell_type": "code",
   "execution_count": 35,
   "metadata": {},
   "outputs": [],
   "source": [
    "# Apply feature scaling to the general population demographics data.\n",
    "from sklearn.preprocessing import StandardScaler\n",
    "stand=StandardScaler()\n",
    "stand.fit(azdias_imputed)\n",
    "azdias_scaled=stand.transform(azdias_imputed)\n"
   ]
  },
  {
   "cell_type": "markdown",
   "metadata": {},
   "source": [
    "### Discussion 2.1: Apply Feature Scaling\n",
    "\n",
    "(Double-click this cell and replace this text with your own text, reporting your decisions regarding feature scaling.)\n",
    "\n",
    "* The missing value was replaced witht the most frequent value for each column and then standarization was applied on the data "
   ]
  },
  {
   "cell_type": "markdown",
   "metadata": {},
   "source": [
    "### Step 2.2: Perform Dimensionality Reduction\n",
    "\n",
    "On your scaled data, you are now ready to apply dimensionality reduction techniques.\n",
    "\n",
    "- Use sklearn's [PCA](http://scikit-learn.org/stable/modules/generated/sklearn.decomposition.PCA.html) class to apply principal component analysis on the data, thus finding the vectors of maximal variance in the data. To start, you should not set any parameters (so all components are computed) or set a number of components that is at least half the number of features (so there's enough features to see the general trend in variability).\n",
    "- Check out the ratio of variance explained by each principal component as well as the cumulative variance explained. Try plotting the cumulative or sequential values using matplotlib's [`plot()`](https://matplotlib.org/api/_as_gen/matplotlib.pyplot.plot.html) function. Based on what you find, select a value for the number of transformed features you'll retain for the clustering part of the project.\n",
    "- Once you've made a choice for the number of components to keep, make sure you re-fit a PCA instance to perform the decided-on transformation."
   ]
  },
  {
   "cell_type": "code",
   "execution_count": 36,
   "metadata": {},
   "outputs": [
    {
     "data": {
      "text/plain": [
       "array([[ 3.97396281, -2.44366123, -2.87347163, ...,  0.08552273,\n",
       "         0.10382552,  0.19582701],\n",
       "       [-0.93890899,  0.28804214, -3.04606656, ..., -0.39087167,\n",
       "        -0.41388522,  0.26953475],\n",
       "       [-3.83100162,  1.2601343 , -0.75170454, ..., -0.71143082,\n",
       "         0.55387812,  0.04355387],\n",
       "       ..., \n",
       "       [-0.83553671, -3.27144018, -2.91422624, ...,  0.44650075,\n",
       "        -0.89370843,  0.16138679],\n",
       "       [ 5.88800919, -3.1428129 ,  2.39557296, ..., -0.56207293,\n",
       "         0.84436168, -0.25425928],\n",
       "       [-0.83922522,  1.02478108,  3.11778881, ..., -0.7348376 ,\n",
       "        -0.45280773, -0.09923875]])"
      ]
     },
     "execution_count": 36,
     "metadata": {},
     "output_type": "execute_result"
    }
   ],
   "source": [
    "# Apply PCA to the data.\n",
    "from sklearn.decomposition import PCA\n",
    "pca=PCA(n_components=50)\n",
    "pca.fit_transform(azdias_scaled)\n"
   ]
  },
  {
   "cell_type": "code",
   "execution_count": 37,
   "metadata": {},
   "outputs": [
    {
     "data": {
      "text/plain": [
       "Text(0.5,1,'Explained Variance Per Principal Component')"
      ]
     },
     "execution_count": 37,
     "metadata": {},
     "output_type": "execute_result"
    },
    {
     "data": {
      "image/png": "[encoded data removed]",
      "text/plain": [
       "<matplotlib.figure.Figure at 0x7f8f49f503c8>"
      ]
     },
     "metadata": {
      "needs_background": "light"
     },
     "output_type": "display_data"
    }
   ],
   "source": [
    "# Investigate the variance accounted for by each principal component.\n",
    "\n",
    "num_components=len(pca.explained_variance_ratio_)\n",
    "ind = np.arange(num_components)\n",
    "vals = pca.explained_variance_ratio_\n",
    " \n",
    "plt.figure(figsize=(25, 6))\n",
    "ax = plt.subplot(111)\n",
    "cumvals = np.cumsum(vals)\n",
    "ax.bar(ind, vals)\n",
    "ax.plot(ind, cumvals)\n",
    "for i in range(num_components):\n",
    "    ax.annotate(r\"%s%%\" % ((str(vals[i]*100)[:4])), (ind[i]+0.15, vals[i]), va=\"bottom\", ha=\"center\", fontsize=8)\n",
    " \n",
    "ax.xaxis.set_tick_params(width=0)    \n",
    "ax.yaxis.set_tick_params(width=2, length=12)\n",
    "ax.set_xlabel(\"Principal Component\")\n",
    "ax.set_ylabel(\"Variance Explained (%)\")\n",
    "plt.title('Explained Variance Per Principal Component')\n",
    "    \n"
   ]
  },
  {
   "cell_type": "code",
   "execution_count": 38,
   "metadata": {},
   "outputs": [],
   "source": [
    "# Re-apply PCA to the data while selecting for number of components to retain.\n",
    "pca=PCA(n_components=10)\n",
    "pca_model=pca.fit(azdias_scaled)\n",
    "azdias_pca=pca_model.transform(azdias_scaled)\n"
   ]
  },
  {
   "cell_type": "markdown",
   "metadata": {},
   "source": [
    "### Discussion 2.2: Perform Dimensionality Reduction\n",
    "\n",
    "(Double-click this cell and replace this text with your own text, reporting your findings and decisions regarding dimensionality reduction. How many principal components / transformed features are you retaining for the next step of the analysis?)\n",
    "\n",
    "* The number of principal components retain for the next step is 10"
   ]
  },
  {
   "cell_type": "markdown",
   "metadata": {},
   "source": [
    "### Step 2.3: Interpret Principal Components\n",
    "\n",
    "Now that we have our transformed principal components, it's a nice idea to check out the weight of each variable on the first few components to see if they can be interpreted in some fashion.\n",
    "\n",
    "As a reminder, each principal component is a unit vector that points in the direction of highest variance (after accounting for the variance captured by earlier principal components). The further a weight is from zero, the more the principal component is in the direction of the corresponding feature. If two features have large weights of the same sign (both positive or both negative), then increases in one tend expect to be associated with increases in the other. To contrast, features with different signs can be expected to show a negative correlation: increases in one variable should result in a decrease in the other.\n",
    "\n",
    "- To investigate the features, you should map each weight to their corresponding feature name, then sort the features according to weight. The most interesting features for each principal component, then, will be those at the beginning and end of the sorted list. Use the data dictionary document to help you understand these most prominent features, their relationships, and what a positive or negative value on the principal component might indicate.\n",
    "- You should investigate and interpret feature associations from the first three principal components in this substep. To help facilitate this, you should write a function that you can call at any time to print the sorted list of feature weights, for the *i*-th principal component. This might come in handy in the next step of the project, when you interpret the tendencies of the discovered clusters."
   ]
  },
  {
   "cell_type": "code",
   "execution_count": 39,
   "metadata": {},
   "outputs": [],
   "source": [
    "def get_feature_importance(pca_model,i):\n",
    "    features_names=azdias_below_threshold.columns.values\n",
    "    compnents_df=pd.DataFrame(pca_model.components_)\n",
    "    compnents_df.columns=features_names\n",
    "    compnents_df=compnents_df.transpose()\n",
    "    compnents_name=[]\n",
    "    for j in range(len(pca_model.components_)):\n",
    "        compnents_name=np.append(compnents_name,'compnent_'+str(j))\n",
    "    compnents_df.columns=compnents_name\n",
    "    sorted_df_component=compnents_df.sort_values(by=['compnent_'+str(i-1)],axis=0,ascending=False)\n",
    "    return sorted_df_component['compnent_'+str(i-1)]"
   ]
  },
  {
   "cell_type": "code",
   "execution_count": 40,
   "metadata": {},
   "outputs": [
    {
     "data": {
      "text/plain": [
       "PLZ8_ANTG3                       0.225356\n",
       "PLZ8_ANTG4                       0.216901\n",
       "CAMEO_INTL_2015_wealth           0.204642\n",
       "HH_EINKOMMEN_SCORE               0.202210\n",
       "ORTSGR_KLS9                      0.196785\n",
       "EWDICHTE                         0.194674\n",
       "FINANZ_HAUSBAUER                 0.159538\n",
       "KBA05_ANTG4                      0.154002\n",
       "PLZ8_ANTG2                       0.153695\n",
       "FINANZ_SPARER                    0.153073\n",
       "ARBEIT                           0.142582\n",
       "KBA05_ANTG3                      0.136740\n",
       "ANZ_HAUSHALTE_AKTIV              0.136067\n",
       "RELAT_AB                         0.134964\n",
       "SEMIO_PFLICHT                    0.121139\n",
       "SEMIO_REL                        0.118562\n",
       "PRAEGENDE_JUGENDJAHRE_age        0.112215\n",
       "SEMIO_RAT                        0.099551\n",
       "SEMIO_TRADV                      0.093702\n",
       "SEMIO_MAT                        0.082416\n",
       "FINANZ_UNAUFFAELLIGER            0.081043\n",
       "SEMIO_FAM                        0.080993\n",
       "SEMIO_KULT                       0.075509\n",
       "FINANZ_ANLEGER                   0.075070\n",
       "REGIOTYP                         0.060324\n",
       "SEMIO_SOZ                        0.043304\n",
       "PLZ8_HHZ                         0.042258\n",
       "HEALTH_TYP                       0.041211\n",
       "KKK                              0.039582\n",
       "SEMIO_KAEM                       0.039413\n",
       "                                   ...   \n",
       "ANREDE_KZ                        0.007526\n",
       "SEMIO_KRIT                       0.003804\n",
       "number_missing_values           -0.001244\n",
       "SOHO_KZ                         -0.001989\n",
       "ANZ_TITEL                       -0.004227\n",
       "RETOURTYP_BK_S                  -0.021712\n",
       "SEMIO_VERT                      -0.040622\n",
       "ONLINE_AFFINITAET               -0.041300\n",
       "MIN_GEBAEUDEJAHR                -0.043042\n",
       "OST_WEST_KZ                     -0.053669\n",
       "WOHNDAUER_2008                  -0.061219\n",
       "KBA13_ANZAHL_PKW                -0.073955\n",
       "SEMIO_LUST                      -0.076870\n",
       "ANZ_PERSONEN                    -0.078060\n",
       "SEMIO_ERL                       -0.080156\n",
       "PRAEGENDE_JUGENDJAHRE_movment   -0.110204\n",
       "GREEN_AVANTGARDE                -0.110204\n",
       "GEBAEUDETYP_RASTER              -0.117193\n",
       "FINANZ_VORSORGER                -0.120150\n",
       "CAMEO_INTL_2015_family_stage    -0.125158\n",
       "ALTERSKATEGORIE_GROB            -0.125585\n",
       "BALLRAUM                        -0.127358\n",
       "INNENSTADT                      -0.164654\n",
       "PLZ8_GBZ                        -0.166388\n",
       "KONSUMNAEHE                     -0.167411\n",
       "KBA05_ANTG1                     -0.214420\n",
       "KBA05_GBZ                       -0.216066\n",
       "FINANZ_MINIMALIST               -0.223083\n",
       "MOBI_REGIO                      -0.224789\n",
       "PLZ8_ANTG1                      -0.225675\n",
       "Name: compnent_0, Length: 65, dtype: float64"
      ]
     },
     "execution_count": 40,
     "metadata": {},
     "output_type": "execute_result"
    }
   ],
   "source": [
    "# Map weights for the first principal component to corresponding feature names\n",
    "# and then print the linked values, sorted by weight.\n",
    "# HINT: Try defining a function here or in a new cell that you can reuse in the\n",
    "# other cells.\n",
    "first_component_weitghs=get_feature_importance(pca_model,1)\n",
    "first_component_weitghs"
   ]
  },
  {
   "cell_type": "code",
   "execution_count": 41,
   "metadata": {},
   "outputs": [
    {
     "data": {
      "text/plain": [
       "ALTERSKATEGORIE_GROB             0.256048\n",
       "SEMIO_ERL                        0.229339\n",
       "FINANZ_VORSORGER                 0.229293\n",
       "SEMIO_LUST                       0.180080\n",
       "RETOURTYP_BK_S                   0.161561\n",
       "FINANZ_HAUSBAUER                 0.122137\n",
       "SEMIO_KRIT                       0.117056\n",
       "SEMIO_KAEM                       0.115813\n",
       "W_KEIT_KIND_HH                   0.114503\n",
       "PLZ8_ANTG3                       0.098290\n",
       "EWDICHTE                         0.098110\n",
       "ORTSGR_KLS9                      0.096787\n",
       "PLZ8_ANTG4                       0.096682\n",
       "ANREDE_KZ                        0.092482\n",
       "CAMEO_INTL_2015_wealth           0.079272\n",
       "KBA05_ANTG4                      0.075302\n",
       "SEMIO_DOM                        0.074236\n",
       "ARBEIT                           0.072053\n",
       "RELAT_AB                         0.069492\n",
       "PLZ8_ANTG2                       0.068161\n",
       "ANZ_HAUSHALTE_AKTIV              0.066506\n",
       "HH_EINKOMMEN_SCORE               0.062335\n",
       "FINANZ_MINIMALIST                0.059513\n",
       "WOHNDAUER_2008                   0.058989\n",
       "KBA05_ANTG3                      0.050849\n",
       "VERS_TYP                         0.032129\n",
       "ANZ_HH_TITEL                     0.032055\n",
       "PLZ8_HHZ                         0.016151\n",
       "REGIOTYP                         0.011365\n",
       "ANZ_TITEL                        0.006828\n",
       "                                   ...   \n",
       "PRAEGENDE_JUGENDJAHRE_movment   -0.017977\n",
       "OST_WEST_KZ                     -0.027553\n",
       "number_missing_values           -0.029443\n",
       "KBA13_ANZAHL_PKW                -0.038618\n",
       "GEBAEUDETYP_RASTER              -0.047307\n",
       "MIN_GEBAEUDEJAHR                -0.051478\n",
       "HEALTH_TYP                      -0.057077\n",
       "ANZ_PERSONEN                    -0.063638\n",
       "BALLRAUM                        -0.064801\n",
       "SEMIO_VERT                      -0.072325\n",
       "KBA05_ANTG1                     -0.073487\n",
       "KONSUMNAEHE                     -0.074971\n",
       "PLZ8_GBZ                        -0.075068\n",
       "MOBI_REGIO                      -0.079763\n",
       "INNENSTADT                      -0.079788\n",
       "KBA05_GBZ                       -0.092074\n",
       "PLZ8_ANTG1                      -0.096217\n",
       "SEMIO_SOZ                       -0.102348\n",
       "SEMIO_MAT                       -0.161809\n",
       "ONLINE_AFFINITAET               -0.165368\n",
       "SEMIO_RAT                       -0.167242\n",
       "SEMIO_FAM                       -0.183932\n",
       "FINANZ_ANLEGER                  -0.203033\n",
       "SEMIO_KULT                      -0.219010\n",
       "SEMIO_PFLICHT                   -0.225470\n",
       "FINANZ_UNAUFFAELLIGER           -0.226069\n",
       "SEMIO_TRADV                     -0.227959\n",
       "FINANZ_SPARER                   -0.231805\n",
       "PRAEGENDE_JUGENDJAHRE_age       -0.238825\n",
       "SEMIO_REL                       -0.253591\n",
       "Name: compnent_1, Length: 65, dtype: float64"
      ]
     },
     "execution_count": 41,
     "metadata": {},
     "output_type": "execute_result"
    }
   ],
   "source": [
    "# Map weights for the second principal component to corresponding feature names\n",
    "# and then print the linked values, sorted by weight.\n",
    "\n",
    "second_component_weitghs=get_feature_importance(pca_model,2)\n",
    "second_component_weitghs"
   ]
  },
  {
   "cell_type": "code",
   "execution_count": 42,
   "metadata": {},
   "outputs": [
    {
     "data": {
      "text/plain": [
       "SEMIO_VERT                       0.344392\n",
       "SEMIO_SOZ                        0.262644\n",
       "SEMIO_FAM                        0.249003\n",
       "SEMIO_KULT                       0.234749\n",
       "FINANZ_MINIMALIST                0.154073\n",
       "RETOURTYP_BK_S                   0.107846\n",
       "FINANZ_VORSORGER                 0.101009\n",
       "W_KEIT_KIND_HH                   0.084219\n",
       "ALTERSKATEGORIE_GROB             0.078494\n",
       "SEMIO_REL                        0.068086\n",
       "SEMIO_LUST                       0.063855\n",
       "SEMIO_MAT                        0.055693\n",
       "ORTSGR_KLS9                      0.050371\n",
       "EWDICHTE                         0.049586\n",
       "PLZ8_ANTG4                       0.049555\n",
       "PLZ8_ANTG3                       0.047969\n",
       "GREEN_AVANTGARDE                 0.047718\n",
       "PRAEGENDE_JUGENDJAHRE_movment    0.047718\n",
       "ARBEIT                           0.037520\n",
       "RELAT_AB                         0.034491\n",
       "WOHNDAUER_2008                   0.033260\n",
       "PLZ8_ANTG2                       0.032499\n",
       "CAMEO_INTL_2015_wealth           0.030020\n",
       "KBA05_ANTG4                      0.029813\n",
       "ANZ_HAUSHALTE_AKTIV              0.026622\n",
       "ANZ_HH_TITEL                     0.013798\n",
       "KBA05_ANTG3                      0.012177\n",
       "ANZ_TITEL                        0.009607\n",
       "PLZ8_HHZ                         0.005959\n",
       "VERS_TYP                         0.001568\n",
       "                                   ...   \n",
       "KKK                             -0.015838\n",
       "HH_EINKOMMEN_SCORE              -0.015943\n",
       "OST_WEST_KZ                     -0.016306\n",
       "KBA05_ANTG1                     -0.020482\n",
       "MIN_GEBAEUDEJAHR                -0.022024\n",
       "KBA13_ANZAHL_PKW                -0.024724\n",
       "MOBI_REGIO                      -0.024891\n",
       "KBA05_GBZ                       -0.028281\n",
       "number_missing_values           -0.029613\n",
       "GEBAEUDETYP_RASTER              -0.032031\n",
       "HEALTH_TYP                      -0.033988\n",
       "BALLRAUM                        -0.037251\n",
       "FINANZ_HAUSBAUER                -0.039332\n",
       "PLZ8_GBZ                        -0.040180\n",
       "KONSUMNAEHE                     -0.040517\n",
       "INNENSTADT                      -0.045750\n",
       "PLZ8_ANTG1                      -0.048929\n",
       "ONLINE_AFFINITAET               -0.055130\n",
       "SEMIO_TRADV                     -0.078078\n",
       "SEMIO_PFLICHT                   -0.079358\n",
       "FINANZ_UNAUFFAELLIGER           -0.101196\n",
       "FINANZ_SPARER                   -0.106609\n",
       "PRAEGENDE_JUGENDJAHRE_age       -0.111275\n",
       "SEMIO_ERL                       -0.176088\n",
       "FINANZ_ANLEGER                  -0.190484\n",
       "SEMIO_RAT                       -0.217075\n",
       "SEMIO_KRIT                      -0.275798\n",
       "SEMIO_DOM                       -0.312589\n",
       "SEMIO_KAEM                      -0.335150\n",
       "ANREDE_KZ                       -0.367370\n",
       "Name: compnent_2, Length: 65, dtype: float64"
      ]
     },
     "execution_count": 42,
     "metadata": {},
     "output_type": "execute_result"
    }
   ],
   "source": [
    "# Map weights for the third principal component to corresponding feature names\n",
    "# and then print the linked values, sorted by weight.\n",
    "third_component_weitghs=get_feature_importance(pca_model,3)\n",
    "third_component_weitghs\n"
   ]
  },
  {
   "cell_type": "markdown",
   "metadata": {},
   "source": [
    "### Discussion 2.3: Interpret Principal Components\n",
    "\n",
    "(Double-click this cell and replace this text with your own text, reporting your observations from detailed investigation of the first few principal components generated. Can we interpret positive and negative values from them in a meaningful way?)\n",
    "* Yes, the postive and negative values arenegatively coorelated for example in teh first compnent, the heighest postive weights features are related for the dreamful, clutur and family orinted personalities while the the heighest negative weights features are for the retional, critical thinking personalities which shows that they are negatively coorelated as one of them increase the other will decrease.\n"
   ]
  },
  {
   "cell_type": "markdown",
   "metadata": {},
   "source": [
    "## Step 3: Clustering\n",
    "\n",
    "### Step 3.1: Apply Clustering to General Population\n",
    "\n",
    "You've assessed and cleaned the demographics data, then scaled and transformed them. Now, it's time to see how the data clusters in the principal components space. In this substep, you will apply k-means clustering to the dataset and use the average within-cluster distances from each point to their assigned cluster's centroid to decide on a number of clusters to keep.\n",
    "\n",
    "- Use sklearn's [KMeans](http://scikit-learn.org/stable/modules/generated/sklearn.cluster.KMeans.html#sklearn.cluster.KMeans) class to perform k-means clustering on the PCA-transformed data.\n",
    "- Then, compute the average difference from each point to its assigned cluster's center. **Hint**: The KMeans object's `.score()` method might be useful here, but note that in sklearn, scores tend to be defined so that larger is better. Try applying it to a small, toy dataset, or use an internet search to help your understanding.\n",
    "- Perform the above two steps for a number of different cluster counts. You can then see how the average distance decreases with an increasing number of clusters. However, each additional cluster provides a smaller net benefit. Use this fact to select a final number of clusters in which to group the data. **Warning**: because of the large size of the dataset, it can take a long time for the algorithm to resolve. The more clusters to fit, the longer the algorithm will take. You should test for cluster counts through at least 10 clusters to get the full picture, but you shouldn't need to test for a number of clusters above about 30.\n",
    "- Once you've selected a final number of clusters to use, re-fit a KMeans instance to perform the clustering operation. Make sure that you also obtain the cluster assignments for the general demographics data, since you'll be using them in the final Step 3.3."
   ]
  },
  {
   "cell_type": "code",
   "execution_count": 43,
   "metadata": {},
   "outputs": [
    {
     "data": {
      "text/plain": [
       "[<matplotlib.lines.Line2D at 0x7f76fc2717f0>]"
      ]
     },
     "execution_count": 43,
     "metadata": {},
     "output_type": "execute_result"
    },
    {
     "data": {
      "image/png": "[encoded data removed]",
      "text/plain": [
       "<matplotlib.figure.Figure at 0x7f76fc1d3da0>"
      ]
     },
     "metadata": {
      "needs_background": "light"
     },
     "output_type": "display_data"
    }
   ],
   "source": [
    "from sklearn.cluster import KMeans\n",
    "\n",
    "# Over a number of different cluster counts...\n",
    "K=[10,15,20,25,30]\n",
    "scores=[]\n",
    "for k in K:\n",
    "    # run k-means clustering on the data and...\n",
    "    kmeans = KMeans(n_clusters=k)\n",
    "    model_k=kmeans.fit(azdias_pca)\n",
    "    labels=model_k.predict(azdias_pca)\n",
    "    # compute the average within-cluster distances.\n",
    "    score=model_k.score(azdias_pca)\n",
    "    scores=np.append(scores,score)\n"
   ]
  },
  {
   "cell_type": "code",
   "execution_count": 44,
   "metadata": {},
   "outputs": [
    {
     "data": {
      "text/plain": [
       "[<matplotlib.lines.Line2D at 0x7f76fc3400b8>]"
      ]
     },
     "execution_count": 44,
     "metadata": {},
     "output_type": "execute_result"
    },
    {
     "data": {
      "image/png": "[encoded data removed]",
      "text/plain": [
       "<matplotlib.figure.Figure at 0x7f76fc271eb8>"
      ]
     },
     "metadata": {
      "needs_background": "light"
     },
     "output_type": "display_data"
    }
   ],
   "source": [
    "# Investigate the change in within-cluster distance across number of clusters.\n",
    "# HINT: Use matplotlib's plot function to visualize this relationship.\n",
    "plt.plot(K,-1*scores,linestyle='--', marker='o', color='b')\n",
    "\n"
   ]
  },
  {
   "cell_type": "code",
   "execution_count": 44,
   "metadata": {},
   "outputs": [],
   "source": [
    "# Re-fit the k-means model with the selected number of clusters and obtain\n",
    "# cluster predictions for the general population demographics data.\n",
    "from sklearn.cluster import KMeans\n",
    "\n",
    "best_k=30\n",
    "kmeans = KMeans(n_clusters=best_k)\n",
    "model_k=kmeans.fit(azdias_pca)\n",
    "labels_demo=model_k.predict(azdias_pca)\n"
   ]
  },
  {
   "cell_type": "markdown",
   "metadata": {},
   "source": [
    "### Discussion 3.1: Apply Clustering to General Population\n",
    "\n",
    "(Double-click this cell and replace this text with your own text, reporting your findings and decisions regarding clustering. Into how many clusters have you decided to segment the population?)\n",
    "k used is 30\n"
   ]
  },
  {
   "cell_type": "markdown",
   "metadata": {},
   "source": [
    "### Step 3.2: Apply All Steps to the Customer Data\n",
    "\n",
    "Now that you have clusters and cluster centers for the general population, it's time to see how the customer data maps on to those clusters. Take care to not confuse this for re-fitting all of the models to the customer data. Instead, you're going to use the fits from the general population to clean, transform, and cluster the customer data. In the last step of the project, you will interpret how the general population fits apply to the customer data.\n",
    "\n",
    "- Don't forget when loading in the customers data, that it is semicolon (`;`) delimited.\n",
    "- Apply the same feature wrangling, selection, and engineering steps to the customer demographics using the `clean_data()` function you created earlier. (You can assume that the customer demographics data has similar meaning behind missing data patterns as the general demographics data.)\n",
    "- Use the sklearn objects from the general demographics data, and apply their transformations to the customers data. That is, you should not be using a `.fit()` or `.fit_transform()` method to re-fit the old objects, nor should you be creating new sklearn objects! Carry the data through the feature scaling, PCA, and clustering steps, obtaining cluster assignments for all of the data in the customer demographics data."
   ]
  },
  {
   "cell_type": "code",
   "execution_count": 45,
   "metadata": {},
   "outputs": [],
   "source": [
    "# Load in the customer demographics data.\n",
    "customers = pd.read_csv('Udacity_CUSTOMERS_Subset.csv',sep=';')"
   ]
  },
  {
   "cell_type": "code",
   "execution_count": 46,
   "metadata": {},
   "outputs": [
    {
     "name": "stderr",
     "output_type": "stream",
     "text": [
      "/opt/conda/lib/python3.6/site-packages/ipykernel_launcher.py:5: SettingWithCopyWarning: \n",
      "A value is trying to be set on a copy of a slice from a DataFrame\n",
      "\n",
      "See the caveats in the documentation: http://pandas.pydata.org/pandas-docs/stable/indexing.html#indexing-view-versus-copy\n",
      "  \"\"\"\n"
     ]
    }
   ],
   "source": [
    "# Apply preprocessing, feature transformation, and clustering from the general\n",
    "# demographics onto the customer data, obtaining cluster predictions for the\n",
    "# customer demographics data.\n",
    "customers_cleared=clean_data(customers,30)\n",
    "customer_imputed=simple_imp_model.transform(customers_cleared)\n",
    "customers_stand=stand.transform(customer_imputed)\n",
    "customers_pca=pca_model.transform(customers_stand)\n",
    "labels_customers=model_k.predict(customers_pca)"
   ]
  },
  {
   "cell_type": "markdown",
   "metadata": {},
   "source": [
    "### Step 3.3: Compare Customer Data to Demographics Data\n",
    "\n",
    "At this point, you have clustered data based on demographics of the general population of Germany, and seen how the customer data for a mail-order sales company maps onto those demographic clusters. In this final substep, you will compare the two cluster distributions to see where the strongest customer base for the company is.\n",
    "\n",
    "Consider the proportion of persons in each cluster for the general population, and the proportions for the customers. If we think the company's customer base to be universal, then the cluster assignment proportions should be fairly similar between the two. If there are only particular segments of the population that are interested in the company's products, then we should see a mismatch from one to the other. If there is a higher proportion of persons in a cluster for the customer data compared to the general population (e.g. 5% of persons are assigned to a cluster for the general population, but 15% of the customer data is closest to that cluster's centroid) then that suggests the people in that cluster to be a target audience for the company. On the other hand, the proportion of the data in a cluster being larger in the general population than the customer data (e.g. only 2% of customers closest to a population centroid that captures 6% of the data) suggests that group of persons to be outside of the target demographics.\n",
    "\n",
    "Take a look at the following points in this step:\n",
    "\n",
    "- Compute the proportion of data points in each cluster for the general population and the customer data. Visualizations will be useful here: both for the individual dataset proportions, but also to visualize the ratios in cluster representation between groups. Seaborn's [`countplot()`](https://seaborn.pydata.org/generated/seaborn.countplot.html) or [`barplot()`](https://seaborn.pydata.org/generated/seaborn.barplot.html) function could be handy.\n",
    "  - Recall the analysis you performed in step 1.1.3 of the project, where you separated out certain data points from the dataset if they had more than a specified threshold of missing values. If you found that this group was qualitatively different from the main bulk of the data, you should treat this as an additional data cluster in this analysis. Make sure that you account for the number of data points in this subset, for both the general population and customer datasets, when making your computations!\n",
    "- Which cluster or clusters are overrepresented in the customer dataset compared to the general population? Select at least one such cluster and infer what kind of people might be represented by that cluster. Use the principal component interpretations from step 2.3 or look at additional components to help you make this inference. Alternatively, you can use the `.inverse_transform()` method of the PCA and StandardScaler objects to transform centroids back to the original data space and interpret the retrieved values directly.\n",
    "- Perform a similar investigation for the underrepresented clusters. Which cluster or clusters are underrepresented in the customer dataset compared to the general population, and what kinds of people are typified by these clusters?"
   ]
  },
  {
   "cell_type": "code",
   "execution_count": 47,
   "metadata": {},
   "outputs": [],
   "source": [
    "# Compare the proportion of data in each cluster for the customer data to the\n",
    "# proportion of data in each cluster for the general population.\n",
    "from collections import Counter\n",
    "y=Counter(labels_demo)\n",
    "x=Counter(labels_customers)\n",
    "subjects_per_labels_demo=pd.DataFrame(index=list(y.keys()),data=list(y.values()),columns=['demo_data'])\n",
    "subjects_per_labels_demo.sort_index(axis=0,inplace=True)\n",
    "\n",
    "subjects_per_labels_customers=pd.DataFrame(index=list(x.keys()),data=list(x.values()),columns=['customers_data'])\n",
    "subjects_per_labels_customers.sort_index(axis=0,inplace=True)\n",
    "subjects_per_labels=pd.concat([subjects_per_labels_demo,subjects_per_labels_customers],axis=1)\n",
    "\n",
    "subjects_per_labels['demo_data_prop']=100*(subjects_per_labels['demo_data']/sum(subjects_per_labels['demo_data']))\n",
    "subjects_per_labels['customer_data_prop']=100*(subjects_per_labels['customers_data']/sum(subjects_per_labels['customers_data']))"
   ]
  },
  {
   "cell_type": "code",
   "execution_count": 48,
   "metadata": {
    "scrolled": true
   },
   "outputs": [
    {
     "data": {
      "text/plain": [
       "<matplotlib.axes._subplots.AxesSubplot at 0x7f8f48d1f7f0>"
      ]
     },
     "execution_count": 48,
     "metadata": {},
     "output_type": "execute_result"
    },
    {
     "data": {
      "image/png": "[encoded data removed]",
      "text/plain": [
       "<matplotlib.figure.Figure at 0x7f8f969108d0>"
      ]
     },
     "metadata": {
      "needs_background": "light"
     },
     "output_type": "display_data"
    }
   ],
   "source": [
    "subjects_per_labels.plot(kind='bar',figsize=(10,10),y=['demo_data_prop','customer_data_prop'])"
   ]
  },
  {
   "cell_type": "code",
   "execution_count": 49,
   "metadata": {},
   "outputs": [],
   "source": [
    "# What kinds of people are part of a cluster that is overrepresented in the\n",
    "# customer data compared to the general population?\n",
    "\n",
    "customers_overrepresented_labels=[2,4,15,16,21,25]\n",
    "overrepresented_subjects_index=np.where(np.in1d(labels_customers,customers_overrepresented_labels))[0]\n",
    "overrepresented_subject_index_25=np.where(np.in1d(labels_customers,customers_overrepresented_labels[5]))[0]\n",
    "overrespsented_comp=customers_pca[overrepresented_subject_index_25,:]\n",
    "average=overrespsented_comp.mean(axis=0)"
   ]
  },
  {
   "cell_type": "code",
   "execution_count": 54,
   "metadata": {},
   "outputs": [
    {
     "data": {
      "text/plain": [
       "PLZ8_ANTG3                       0.225356\n",
       "PLZ8_ANTG4                       0.216901\n",
       "CAMEO_INTL_2015_wealth           0.204642\n",
       "HH_EINKOMMEN_SCORE               0.202210\n",
       "ORTSGR_KLS9                      0.196785\n",
       "EWDICHTE                         0.194674\n",
       "FINANZ_HAUSBAUER                 0.159538\n",
       "KBA05_ANTG4                      0.154002\n",
       "PLZ8_ANTG2                       0.153695\n",
       "FINANZ_SPARER                    0.153073\n",
       "ARBEIT                           0.142582\n",
       "KBA05_ANTG3                      0.136740\n",
       "ANZ_HAUSHALTE_AKTIV              0.136067\n",
       "RELAT_AB                         0.134964\n",
       "SEMIO_PFLICHT                    0.121139\n",
       "SEMIO_REL                        0.118562\n",
       "PRAEGENDE_JUGENDJAHRE_age        0.112215\n",
       "SEMIO_RAT                        0.099551\n",
       "SEMIO_TRADV                      0.093702\n",
       "SEMIO_MAT                        0.082416\n",
       "FINANZ_UNAUFFAELLIGER            0.081043\n",
       "SEMIO_FAM                        0.080993\n",
       "SEMIO_KULT                       0.075509\n",
       "FINANZ_ANLEGER                   0.075070\n",
       "REGIOTYP                         0.060324\n",
       "SEMIO_SOZ                        0.043304\n",
       "PLZ8_HHZ                         0.042258\n",
       "HEALTH_TYP                       0.041211\n",
       "KKK                              0.039582\n",
       "SEMIO_KAEM                       0.039413\n",
       "                                   ...   \n",
       "ANREDE_KZ                        0.007526\n",
       "SEMIO_KRIT                       0.003804\n",
       "number_missing_values           -0.001244\n",
       "SOHO_KZ                         -0.001989\n",
       "ANZ_TITEL                       -0.004227\n",
       "RETOURTYP_BK_S                  -0.021712\n",
       "SEMIO_VERT                      -0.040622\n",
       "ONLINE_AFFINITAET               -0.041300\n",
       "MIN_GEBAEUDEJAHR                -0.043042\n",
       "OST_WEST_KZ                     -0.053669\n",
       "WOHNDAUER_2008                  -0.061219\n",
       "KBA13_ANZAHL_PKW                -0.073955\n",
       "SEMIO_LUST                      -0.076870\n",
       "ANZ_PERSONEN                    -0.078060\n",
       "SEMIO_ERL                       -0.080156\n",
       "PRAEGENDE_JUGENDJAHRE_movment   -0.110204\n",
       "GREEN_AVANTGARDE                -0.110204\n",
       "GEBAEUDETYP_RASTER              -0.117193\n",
       "FINANZ_VORSORGER                -0.120150\n",
       "CAMEO_INTL_2015_family_stage    -0.125158\n",
       "ALTERSKATEGORIE_GROB            -0.125585\n",
       "BALLRAUM                        -0.127358\n",
       "INNENSTADT                      -0.164654\n",
       "PLZ8_GBZ                        -0.166388\n",
       "KONSUMNAEHE                     -0.167411\n",
       "KBA05_ANTG1                     -0.214420\n",
       "KBA05_GBZ                       -0.216066\n",
       "FINANZ_MINIMALIST               -0.223083\n",
       "MOBI_REGIO                      -0.224789\n",
       "PLZ8_ANTG1                      -0.225675\n",
       "Name: compnent_0, Length: 65, dtype: float64"
      ]
     },
     "execution_count": 54,
     "metadata": {},
     "output_type": "execute_result"
    }
   ],
   "source": [
    "first_component_weitghs=get_feature_importance(pca_model,1)\n",
    "first_component_weitghs"
   ]
  },
  {
   "cell_type": "code",
   "execution_count": 53,
   "metadata": {
    "scrolled": true
   },
   "outputs": [
    {
     "data": {
      "text/plain": [
       "SEMIO_VERT                       0.344392\n",
       "SEMIO_SOZ                        0.262644\n",
       "SEMIO_FAM                        0.249003\n",
       "SEMIO_KULT                       0.234749\n",
       "FINANZ_MINIMALIST                0.154073\n",
       "RETOURTYP_BK_S                   0.107846\n",
       "FINANZ_VORSORGER                 0.101009\n",
       "W_KEIT_KIND_HH                   0.084219\n",
       "ALTERSKATEGORIE_GROB             0.078494\n",
       "SEMIO_REL                        0.068086\n",
       "SEMIO_LUST                       0.063855\n",
       "SEMIO_MAT                        0.055693\n",
       "ORTSGR_KLS9                      0.050371\n",
       "EWDICHTE                         0.049586\n",
       "PLZ8_ANTG4                       0.049555\n",
       "PLZ8_ANTG3                       0.047969\n",
       "GREEN_AVANTGARDE                 0.047718\n",
       "PRAEGENDE_JUGENDJAHRE_movment    0.047718\n",
       "ARBEIT                           0.037520\n",
       "RELAT_AB                         0.034491\n",
       "WOHNDAUER_2008                   0.033260\n",
       "PLZ8_ANTG2                       0.032499\n",
       "CAMEO_INTL_2015_wealth           0.030020\n",
       "KBA05_ANTG4                      0.029813\n",
       "ANZ_HAUSHALTE_AKTIV              0.026622\n",
       "ANZ_HH_TITEL                     0.013798\n",
       "KBA05_ANTG3                      0.012177\n",
       "ANZ_TITEL                        0.009607\n",
       "PLZ8_HHZ                         0.005959\n",
       "VERS_TYP                         0.001568\n",
       "                                   ...   \n",
       "KKK                             -0.015838\n",
       "HH_EINKOMMEN_SCORE              -0.015943\n",
       "OST_WEST_KZ                     -0.016306\n",
       "KBA05_ANTG1                     -0.020482\n",
       "MIN_GEBAEUDEJAHR                -0.022024\n",
       "KBA13_ANZAHL_PKW                -0.024724\n",
       "MOBI_REGIO                      -0.024891\n",
       "KBA05_GBZ                       -0.028281\n",
       "number_missing_values           -0.029613\n",
       "GEBAEUDETYP_RASTER              -0.032031\n",
       "HEALTH_TYP                      -0.033988\n",
       "BALLRAUM                        -0.037251\n",
       "FINANZ_HAUSBAUER                -0.039332\n",
       "PLZ8_GBZ                        -0.040180\n",
       "KONSUMNAEHE                     -0.040517\n",
       "INNENSTADT                      -0.045750\n",
       "PLZ8_ANTG1                      -0.048929\n",
       "ONLINE_AFFINITAET               -0.055130\n",
       "SEMIO_TRADV                     -0.078078\n",
       "SEMIO_PFLICHT                   -0.079358\n",
       "FINANZ_UNAUFFAELLIGER           -0.101196\n",
       "FINANZ_SPARER                   -0.106609\n",
       "PRAEGENDE_JUGENDJAHRE_age       -0.111275\n",
       "SEMIO_ERL                       -0.176088\n",
       "FINANZ_ANLEGER                  -0.190484\n",
       "SEMIO_RAT                       -0.217075\n",
       "SEMIO_KRIT                      -0.275798\n",
       "SEMIO_DOM                       -0.312589\n",
       "SEMIO_KAEM                      -0.335150\n",
       "ANREDE_KZ                       -0.367370\n",
       "Name: compnent_2, Length: 65, dtype: float64"
      ]
     },
     "execution_count": 53,
     "metadata": {},
     "output_type": "execute_result"
    }
   ],
   "source": [
    "third_component_weitghs=get_feature_importance(pca_model,3)\n",
    "third_component_weitghs"
   ]
  },
  {
   "cell_type": "code",
   "execution_count": 52,
   "metadata": {},
   "outputs": [
    {
     "data": {
      "text/plain": [
       "PRAEGENDE_JUGENDJAHRE_movment    0.398993\n",
       "GREEN_AVANTGARDE                 0.398993\n",
       "EWDICHTE                         0.259710\n",
       "ORTSGR_KLS9                      0.247238\n",
       "ONLINE_AFFINITAET                0.135588\n",
       "PLZ8_HHZ                         0.133654\n",
       "SEMIO_DOM                        0.117534\n",
       "KBA05_ANTG1                      0.110556\n",
       "ANZ_PERSONEN                     0.108251\n",
       "OST_WEST_KZ                      0.107269\n",
       "PLZ8_ANTG2                       0.104550\n",
       "RELAT_AB                         0.099040\n",
       "PLZ8_ANTG3                       0.094760\n",
       "MOBI_REGIO                       0.081531\n",
       "PLZ8_ANTG4                       0.081328\n",
       "SEMIO_KAEM                       0.077719\n",
       "FINANZ_UNAUFFAELLIGER            0.074461\n",
       "SEMIO_TRADV                      0.067081\n",
       "CAMEO_INTL_2015_family_stage     0.062640\n",
       "KBA05_GBZ                        0.061882\n",
       "FINANZ_MINIMALIST                0.059445\n",
       "ARBEIT                           0.056918\n",
       "SEMIO_RAT                        0.056374\n",
       "ANZ_TITEL                        0.047913\n",
       "ANREDE_KZ                        0.038644\n",
       "KBA13_ANZAHL_PKW                 0.035220\n",
       "ANZ_HH_TITEL                     0.034988\n",
       "PLZ8_GBZ                         0.034748\n",
       "PRAEGENDE_JUGENDJAHRE_age        0.029460\n",
       "SEMIO_PFLICHT                    0.021464\n",
       "                                   ...   \n",
       "SEMIO_SOZ                        0.008709\n",
       "HEALTH_TYP                       0.006593\n",
       "SOHO_KZ                          0.002360\n",
       "FINANZ_SPARER                   -0.000493\n",
       "SEMIO_LUST                      -0.000555\n",
       "SEMIO_REL                       -0.001748\n",
       "RETOURTYP_BK_S                  -0.003935\n",
       "FINANZ_VORSORGER                -0.019646\n",
       "SEMIO_FAM                       -0.021309\n",
       "SEMIO_VERT                      -0.021623\n",
       "SEMIO_ERL                       -0.027427\n",
       "SEMIO_KULT                      -0.029460\n",
       "ANZ_HAUSHALTE_AKTIV             -0.031451\n",
       "KBA05_ANTG4                     -0.035266\n",
       "PLZ8_ANTG1                      -0.045632\n",
       "ALTERSKATEGORIE_GROB            -0.050897\n",
       "KBA05_ANTG3                     -0.068268\n",
       "MIN_GEBAEUDEJAHR                -0.068858\n",
       "number_missing_values           -0.072011\n",
       "GEBAEUDETYP_RASTER              -0.084942\n",
       "FINANZ_HAUSBAUER                -0.095237\n",
       "W_KEIT_KIND_HH                  -0.098056\n",
       "FINANZ_ANLEGER                  -0.119672\n",
       "CAMEO_INTL_2015_wealth          -0.121090\n",
       "KONSUMNAEHE                     -0.149070\n",
       "INNENSTADT                      -0.218148\n",
       "REGIOTYP                        -0.219971\n",
       "BALLRAUM                        -0.231948\n",
       "HH_EINKOMMEN_SCORE              -0.233552\n",
       "KKK                             -0.273046\n",
       "Name: compnent_3, Length: 65, dtype: float64"
      ]
     },
     "execution_count": 52,
     "metadata": {},
     "output_type": "execute_result"
    }
   ],
   "source": [
    "\n",
    "fourth_component_weitghs=get_feature_importance(pca_model,4)\n",
    "fourth_component_weitghs"
   ]
  },
  {
   "cell_type": "code",
   "execution_count": 61,
   "metadata": {},
   "outputs": [
    {
     "data": {
      "text/plain": [
       "ALTERSKATEGORIE_GROB             0.256048\n",
       "SEMIO_ERL                        0.229339\n",
       "FINANZ_VORSORGER                 0.229293\n",
       "SEMIO_LUST                       0.180080\n",
       "RETOURTYP_BK_S                   0.161561\n",
       "FINANZ_HAUSBAUER                 0.122137\n",
       "SEMIO_KRIT                       0.117056\n",
       "SEMIO_KAEM                       0.115813\n",
       "W_KEIT_KIND_HH                   0.114503\n",
       "PLZ8_ANTG3                       0.098290\n",
       "EWDICHTE                         0.098110\n",
       "ORTSGR_KLS9                      0.096787\n",
       "PLZ8_ANTG4                       0.096682\n",
       "ANREDE_KZ                        0.092482\n",
       "CAMEO_INTL_2015_wealth           0.079272\n",
       "KBA05_ANTG4                      0.075302\n",
       "SEMIO_DOM                        0.074236\n",
       "ARBEIT                           0.072053\n",
       "RELAT_AB                         0.069492\n",
       "PLZ8_ANTG2                       0.068161\n",
       "ANZ_HAUSHALTE_AKTIV              0.066506\n",
       "HH_EINKOMMEN_SCORE               0.062335\n",
       "FINANZ_MINIMALIST                0.059513\n",
       "WOHNDAUER_2008                   0.058989\n",
       "KBA05_ANTG3                      0.050849\n",
       "VERS_TYP                         0.032129\n",
       "ANZ_HH_TITEL                     0.032055\n",
       "PLZ8_HHZ                         0.016151\n",
       "REGIOTYP                         0.011365\n",
       "ANZ_TITEL                        0.006828\n",
       "                                   ...   \n",
       "PRAEGENDE_JUGENDJAHRE_movment   -0.017977\n",
       "OST_WEST_KZ                     -0.027553\n",
       "number_missing_values           -0.029443\n",
       "KBA13_ANZAHL_PKW                -0.038618\n",
       "GEBAEUDETYP_RASTER              -0.047307\n",
       "MIN_GEBAEUDEJAHR                -0.051478\n",
       "HEALTH_TYP                      -0.057077\n",
       "ANZ_PERSONEN                    -0.063638\n",
       "BALLRAUM                        -0.064801\n",
       "SEMIO_VERT                      -0.072325\n",
       "KBA05_ANTG1                     -0.073487\n",
       "KONSUMNAEHE                     -0.074971\n",
       "PLZ8_GBZ                        -0.075068\n",
       "MOBI_REGIO                      -0.079763\n",
       "INNENSTADT                      -0.079788\n",
       "KBA05_GBZ                       -0.092074\n",
       "PLZ8_ANTG1                      -0.096217\n",
       "SEMIO_SOZ                       -0.102348\n",
       "SEMIO_MAT                       -0.161809\n",
       "ONLINE_AFFINITAET               -0.165368\n",
       "SEMIO_RAT                       -0.167242\n",
       "SEMIO_FAM                       -0.183932\n",
       "FINANZ_ANLEGER                  -0.203033\n",
       "SEMIO_KULT                      -0.219010\n",
       "SEMIO_PFLICHT                   -0.225470\n",
       "FINANZ_UNAUFFAELLIGER           -0.226069\n",
       "SEMIO_TRADV                     -0.227959\n",
       "FINANZ_SPARER                   -0.231805\n",
       "PRAEGENDE_JUGENDJAHRE_age       -0.238825\n",
       "SEMIO_REL                       -0.253591\n",
       "Name: compnent_1, Length: 65, dtype: float64"
      ]
     },
     "execution_count": 61,
     "metadata": {},
     "output_type": "execute_result"
    }
   ],
   "source": [
    "second_component_weitghs=get_feature_importance(pca_model,2)\n",
    "second_component_weitghs"
   ]
  },
  {
   "cell_type": "code",
   "execution_count": 59,
   "metadata": {},
   "outputs": [],
   "source": [
    "# What kinds of people are part of a cluster that is underrepresented in the\n",
    "# customer data compared to the general population?\n",
    "customers_underrepresented_labels=[0,1,3,5,6,7,17,18,19,20,24,29]\n",
    "underrepresented_subjects_index=np.where(np.in1d(labels_customers,customers_underrepresented_labels))[0]\n",
    "underrepresented_subject_index_5=np.where(np.in1d(labels_customers,customers_underrepresented_labels[3]))[0]\n",
    "underrepresented_comp=customers_pca[underrepresented_subject_index_5,:]\n",
    "average=underrepresented_comp.mean(axis=0)"
   ]
  },
  {
   "cell_type": "code",
   "execution_count": 60,
   "metadata": {},
   "outputs": [
    {
     "data": {
      "text/plain": [
       "array([ 2.56805224,  3.17728803,  3.54341946,  0.03484543, -0.33722702,\n",
       "        1.59798928,  2.09505676,  0.80920504, -0.03768405,  0.6091663 ])"
      ]
     },
     "execution_count": 60,
     "metadata": {},
     "output_type": "execute_result"
    }
   ],
   "source": []
  },
  {
   "cell_type": "markdown",
   "metadata": {},
   "source": [
    "### Discussion 3.3: Compare Customer Data to Demographics Data\n",
    "\n",
    "(Double-click this cell and replace this text with your own text, reporting findings and conclusions from the clustering analysis. Can we describe segments of the population that are relatively popular with the mail-order company, or relatively unpopular with the company?)\n",
    "\n",
    "* Yes, it could be described. For example the most over-represented cluster in the customer data is cluster 25. For this label the first, third and fourth compnent are dominant. Since the first compnent had negative value, the feature with negative weights in this compnents will be the most important. These features are PLZ8_ANTG1, MOBI_REGIO, FINANZ_MINIMALIST. They are related to the low rate of movment and very low financial minmalization. For the third and fourth compnent these features had the heighest weight are SEMIO_VERT, SEMIO_SOZ, SEMIO_FAM, SEMIO_KULT and the lowest weights was SEMIO_RAT, SEMIO_KRIT, SEMIO_DOM and SEMIO_KAEM which are related to the personality the customers are more of retional and critical thinking. for the Fourth component the feature with the heighest weights are PRAEGENDE_JUGENDJAHRE_movment, GREEN_AVANTGARDE and EWDICHTE, which is related to that to be in the west and to be a member of Membership in environmental sustainability and the high denisty of the houses.\n",
    "\n",
    "* For the most under-respsented cluster in the customer data is 5. For this cluster the third, second and first compnent had the heghest values. The third compnent was mentioned before, for the second compnent the heighest weights are of the following feature ALTERSKATEGORIE_GROB, SEMIO_ERL, FINANZ_VORSORGER. The first feature is related to the age and it means that the customers are less of aged people and the second is people that are less even oriented and thirldy the people that are very low finaiclly perepared. The first compenet highest weight features are PLZ8_ANTG3, PLZ8_ANTG4, and CAMEO_INTL_2015_wealth. The first two is related to the number of 6-10 and 10+ families and this might be related to the low income, so that's why there are no much customers in this regions. The third feaature is related to the wealthy house hold and there are small customers of poor house holds."
   ]
  },
  {
   "cell_type": "markdown",
   "metadata": {},
   "source": [
    "> Congratulations on making it this far in the project! Before you finish, make sure to check through the entire notebook from top to bottom to make sure that your analysis follows a logical flow and all of your findings are documented in **Discussion** cells. Once you've checked over all of your work, you should export the notebook as an HTML document to submit for evaluation. You can do this from the menu, navigating to **File -> Download as -> HTML (.html)**. You will submit both that document and this notebook for your project submission."
   ]
  },
  {
   "cell_type": "code",
   "execution_count": null,
   "metadata": {},
   "outputs": [],
   "source": []
  }
 ],
 "metadata": {
  "kernelspec": {
   "display_name": "Python 3",
   "language": "python",
   "name": "python3"
  }
 },
 "nbformat": 4,
 "nbformat_minor": 2
}
